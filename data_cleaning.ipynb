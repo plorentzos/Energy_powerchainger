{
 "cells": [
  {
   "cell_type": "markdown",
   "id": "d64e4132",
   "metadata": {},
   "source": [
    "## Import relevant libraries"
   ]
  },
  {
   "cell_type": "code",
   "execution_count": 1,
   "id": "bc8f95cc",
   "metadata": {},
   "outputs": [],
   "source": [
    "import os\n",
    "import numpy as np\n",
    "import pandas as pd\n",
    "import seaborn as sns\n",
    "import matplotlib.pyplot as plt\n"
   ]
  },
  {
   "cell_type": "code",
   "execution_count": 2,
   "id": "4772d157",
   "metadata": {},
   "outputs": [
    {
     "name": "stdout",
     "output_type": "stream",
     "text": [
      "The current working directory is:  c:\\Users\\30697\\Desktop\\Jobs\\Job Descriptions\\ML_assignment_2025\n"
     ]
    }
   ],
   "source": [
    "print(\"The current working directory is: \",\n",
    "       os.getcwd()\n",
    "     )                                                  # Current working directory "
   ]
  },
  {
   "cell_type": "markdown",
   "id": "7b73da1a",
   "metadata": {},
   "source": [
    "## Import, merge and drop unnecessary variables of the original datasets"
   ]
  },
  {
   "cell_type": "code",
   "execution_count": 3,
   "id": "a8074bd0",
   "metadata": {},
   "outputs": [],
   "source": [
    "# CO2 factor (Y)\n",
    "CO2factor_2021 = pd.read_csv(\"electriciteitsmix-2021-uur-data.csv\")\n",
    "CO2factor_2022 = pd.read_csv(\"electriciteitsmix-2022-uur-data.csv\")\n",
    "CO2factor_2023 = pd.read_csv(\"electriciteitsmix-2023-uur-data.csv\") \n",
    "CO2factor_2024 = pd.read_csv(\"electriciteitsmix-2024-uur-data.csv\")         "
   ]
  },
  {
   "cell_type": "code",
   "execution_count": 4,
   "id": "b04f999f",
   "metadata": {},
   "outputs": [
    {
     "name": "stdout",
     "output_type": "stream",
     "text": [
      "(8760, 13) (8760, 13) (8760, 13) (8784, 13)\n"
     ]
    }
   ],
   "source": [
    "print(CO2factor_2021.shape, CO2factor_2022.shape, CO2factor_2023.shape, CO2factor_2024.shape)  # Check the shapes of the datasets"
   ]
  },
  {
   "cell_type": "code",
   "execution_count": 5,
   "id": "79819d6d",
   "metadata": {},
   "outputs": [],
   "source": [
    "# merge the datasets\n",
    "CO2factor = pd.concat([CO2factor_2021, CO2factor_2022, CO2factor_2023, CO2factor_2024], ignore_index=True)"
   ]
  },
  {
   "cell_type": "code",
   "execution_count": 6,
   "id": "17f00b77",
   "metadata": {},
   "outputs": [
    {
     "data": {
      "text/plain": [
       "(35064, 13)"
      ]
     },
     "execution_count": 6,
     "metadata": {},
     "output_type": "execute_result"
    }
   ],
   "source": [
    "CO2factor.shape # merged dataset shape"
   ]
  },
  {
   "cell_type": "code",
   "execution_count": 7,
   "id": "10a33a6c",
   "metadata": {},
   "outputs": [
    {
     "data": {
      "text/html": [
       "<div>\n",
       "<style scoped>\n",
       "    .dataframe tbody tr th:only-of-type {\n",
       "        vertical-align: middle;\n",
       "    }\n",
       "\n",
       "    .dataframe tbody tr th {\n",
       "        vertical-align: top;\n",
       "    }\n",
       "\n",
       "    .dataframe thead th {\n",
       "        text-align: right;\n",
       "    }\n",
       "</style>\n",
       "<table border=\"1\" class=\"dataframe\">\n",
       "  <thead>\n",
       "    <tr style=\"text-align: right;\">\n",
       "      <th></th>\n",
       "      <th>validfrom (UTC)</th>\n",
       "      <th>validto (UTC)</th>\n",
       "      <th>point</th>\n",
       "      <th>type</th>\n",
       "      <th>granularity</th>\n",
       "      <th>timezone</th>\n",
       "      <th>activity</th>\n",
       "      <th>classification</th>\n",
       "      <th>capacity (kW)</th>\n",
       "      <th>volume (kWh)</th>\n",
       "      <th>percentage</th>\n",
       "      <th>emission (kg CO2)</th>\n",
       "      <th>emissionfactor (kg CO2/kWh)</th>\n",
       "    </tr>\n",
       "  </thead>\n",
       "  <tbody>\n",
       "    <tr>\n",
       "      <th>0</th>\n",
       "      <td>2020-12-31 23:00:00</td>\n",
       "      <td>2021-01-01 00:00:00</td>\n",
       "      <td>Nederland</td>\n",
       "      <td>ElectricityMix</td>\n",
       "      <td>Hour</td>\n",
       "      <td>UTC</td>\n",
       "      <td>Providing</td>\n",
       "      <td>Current</td>\n",
       "      <td>10899485</td>\n",
       "      <td>10899485</td>\n",
       "      <td>0.605003</td>\n",
       "      <td>3939727</td>\n",
       "      <td>0.361425</td>\n",
       "    </tr>\n",
       "    <tr>\n",
       "      <th>1</th>\n",
       "      <td>2021-01-01 00:00:00</td>\n",
       "      <td>2021-01-01 01:00:00</td>\n",
       "      <td>Nederland</td>\n",
       "      <td>ElectricityMix</td>\n",
       "      <td>Hour</td>\n",
       "      <td>UTC</td>\n",
       "      <td>Providing</td>\n",
       "      <td>Current</td>\n",
       "      <td>10180546</td>\n",
       "      <td>10180546</td>\n",
       "      <td>0.565084</td>\n",
       "      <td>3646349</td>\n",
       "      <td>0.358140</td>\n",
       "    </tr>\n",
       "    <tr>\n",
       "      <th>2</th>\n",
       "      <td>2021-01-01 01:00:00</td>\n",
       "      <td>2021-01-01 02:00:00</td>\n",
       "      <td>Nederland</td>\n",
       "      <td>ElectricityMix</td>\n",
       "      <td>Hour</td>\n",
       "      <td>UTC</td>\n",
       "      <td>Providing</td>\n",
       "      <td>Current</td>\n",
       "      <td>9166898</td>\n",
       "      <td>9166898</td>\n",
       "      <td>0.508808</td>\n",
       "      <td>3201484</td>\n",
       "      <td>0.349210</td>\n",
       "    </tr>\n",
       "    <tr>\n",
       "      <th>3</th>\n",
       "      <td>2021-01-01 02:00:00</td>\n",
       "      <td>2021-01-01 03:00:00</td>\n",
       "      <td>Nederland</td>\n",
       "      <td>ElectricityMix</td>\n",
       "      <td>Hour</td>\n",
       "      <td>UTC</td>\n",
       "      <td>Providing</td>\n",
       "      <td>Current</td>\n",
       "      <td>8063011</td>\n",
       "      <td>8063011</td>\n",
       "      <td>0.447527</td>\n",
       "      <td>2739129</td>\n",
       "      <td>0.339635</td>\n",
       "    </tr>\n",
       "    <tr>\n",
       "      <th>4</th>\n",
       "      <td>2021-01-01 03:00:00</td>\n",
       "      <td>2021-01-01 04:00:00</td>\n",
       "      <td>Nederland</td>\n",
       "      <td>ElectricityMix</td>\n",
       "      <td>Hour</td>\n",
       "      <td>UTC</td>\n",
       "      <td>Providing</td>\n",
       "      <td>Current</td>\n",
       "      <td>7712362</td>\n",
       "      <td>7712362</td>\n",
       "      <td>0.428055</td>\n",
       "      <td>2552202</td>\n",
       "      <td>0.330915</td>\n",
       "    </tr>\n",
       "  </tbody>\n",
       "</table>\n",
       "</div>"
      ],
      "text/plain": [
       "       validfrom (UTC)        validto (UTC)      point            type  \\\n",
       "0  2020-12-31 23:00:00  2021-01-01 00:00:00  Nederland  ElectricityMix   \n",
       "1  2021-01-01 00:00:00  2021-01-01 01:00:00  Nederland  ElectricityMix   \n",
       "2  2021-01-01 01:00:00  2021-01-01 02:00:00  Nederland  ElectricityMix   \n",
       "3  2021-01-01 02:00:00  2021-01-01 03:00:00  Nederland  ElectricityMix   \n",
       "4  2021-01-01 03:00:00  2021-01-01 04:00:00  Nederland  ElectricityMix   \n",
       "\n",
       "  granularity timezone   activity classification  capacity (kW)  volume (kWh)  \\\n",
       "0        Hour      UTC  Providing        Current       10899485      10899485   \n",
       "1        Hour      UTC  Providing        Current       10180546      10180546   \n",
       "2        Hour      UTC  Providing        Current        9166898       9166898   \n",
       "3        Hour      UTC  Providing        Current        8063011       8063011   \n",
       "4        Hour      UTC  Providing        Current        7712362       7712362   \n",
       "\n",
       "   percentage  emission (kg CO2)  emissionfactor (kg CO2/kWh)  \n",
       "0    0.605003            3939727                     0.361425  \n",
       "1    0.565084            3646349                     0.358140  \n",
       "2    0.508808            3201484                     0.349210  \n",
       "3    0.447527            2739129                     0.339635  \n",
       "4    0.428055            2552202                     0.330915  "
      ]
     },
     "execution_count": 7,
     "metadata": {},
     "output_type": "execute_result"
    }
   ],
   "source": [
    "CO2factor.head() # display the first few rows of the merged dataset"
   ]
  },
  {
   "cell_type": "code",
   "execution_count": 8,
   "id": "39af46e0",
   "metadata": {},
   "outputs": [
    {
     "data": {
      "text/html": [
       "<div>\n",
       "<style scoped>\n",
       "    .dataframe tbody tr th:only-of-type {\n",
       "        vertical-align: middle;\n",
       "    }\n",
       "\n",
       "    .dataframe tbody tr th {\n",
       "        vertical-align: top;\n",
       "    }\n",
       "\n",
       "    .dataframe thead th {\n",
       "        text-align: right;\n",
       "    }\n",
       "</style>\n",
       "<table border=\"1\" class=\"dataframe\">\n",
       "  <thead>\n",
       "    <tr style=\"text-align: right;\">\n",
       "      <th></th>\n",
       "      <th>validfrom (UTC)</th>\n",
       "      <th>validto (UTC)</th>\n",
       "      <th>point</th>\n",
       "      <th>type</th>\n",
       "      <th>granularity</th>\n",
       "      <th>timezone</th>\n",
       "      <th>activity</th>\n",
       "      <th>classification</th>\n",
       "      <th>capacity (kW)</th>\n",
       "      <th>volume (kWh)</th>\n",
       "      <th>percentage</th>\n",
       "      <th>emission (kg CO2)</th>\n",
       "      <th>emissionfactor (kg CO2/kWh)</th>\n",
       "    </tr>\n",
       "  </thead>\n",
       "  <tbody>\n",
       "    <tr>\n",
       "      <th>35059</th>\n",
       "      <td>2024-12-31 18:00:00</td>\n",
       "      <td>2024-12-31 19:00:00</td>\n",
       "      <td>Nederland</td>\n",
       "      <td>ElectricityMix</td>\n",
       "      <td>Hour</td>\n",
       "      <td>UTC</td>\n",
       "      <td>Providing</td>\n",
       "      <td>Current</td>\n",
       "      <td>14775988</td>\n",
       "      <td>14775988</td>\n",
       "      <td>0.395878</td>\n",
       "      <td>1401628</td>\n",
       "      <td>0.094857</td>\n",
       "    </tr>\n",
       "    <tr>\n",
       "      <th>35060</th>\n",
       "      <td>2024-12-31 19:00:00</td>\n",
       "      <td>2024-12-31 20:00:00</td>\n",
       "      <td>Nederland</td>\n",
       "      <td>ElectricityMix</td>\n",
       "      <td>Hour</td>\n",
       "      <td>UTC</td>\n",
       "      <td>Providing</td>\n",
       "      <td>Current</td>\n",
       "      <td>14406607</td>\n",
       "      <td>14406607</td>\n",
       "      <td>0.385977</td>\n",
       "      <td>1242798</td>\n",
       "      <td>0.086264</td>\n",
       "    </tr>\n",
       "    <tr>\n",
       "      <th>35061</th>\n",
       "      <td>2024-12-31 20:00:00</td>\n",
       "      <td>2024-12-31 21:00:00</td>\n",
       "      <td>Nederland</td>\n",
       "      <td>ElectricityMix</td>\n",
       "      <td>Hour</td>\n",
       "      <td>UTC</td>\n",
       "      <td>Providing</td>\n",
       "      <td>Current</td>\n",
       "      <td>14291198</td>\n",
       "      <td>14291198</td>\n",
       "      <td>0.382881</td>\n",
       "      <td>1189433</td>\n",
       "      <td>0.083229</td>\n",
       "    </tr>\n",
       "    <tr>\n",
       "      <th>35062</th>\n",
       "      <td>2024-12-31 21:00:00</td>\n",
       "      <td>2024-12-31 22:00:00</td>\n",
       "      <td>Nederland</td>\n",
       "      <td>ElectricityMix</td>\n",
       "      <td>Hour</td>\n",
       "      <td>UTC</td>\n",
       "      <td>Providing</td>\n",
       "      <td>Current</td>\n",
       "      <td>14137435</td>\n",
       "      <td>14137435</td>\n",
       "      <td>0.378757</td>\n",
       "      <td>1155729</td>\n",
       "      <td>0.081749</td>\n",
       "    </tr>\n",
       "    <tr>\n",
       "      <th>35063</th>\n",
       "      <td>2024-12-31 22:00:00</td>\n",
       "      <td>2024-12-31 23:00:00</td>\n",
       "      <td>Nederland</td>\n",
       "      <td>ElectricityMix</td>\n",
       "      <td>Hour</td>\n",
       "      <td>UTC</td>\n",
       "      <td>Providing</td>\n",
       "      <td>Current</td>\n",
       "      <td>13976718</td>\n",
       "      <td>13976718</td>\n",
       "      <td>0.374447</td>\n",
       "      <td>1084655</td>\n",
       "      <td>0.077602</td>\n",
       "    </tr>\n",
       "  </tbody>\n",
       "</table>\n",
       "</div>"
      ],
      "text/plain": [
       "           validfrom (UTC)        validto (UTC)      point            type  \\\n",
       "35059  2024-12-31 18:00:00  2024-12-31 19:00:00  Nederland  ElectricityMix   \n",
       "35060  2024-12-31 19:00:00  2024-12-31 20:00:00  Nederland  ElectricityMix   \n",
       "35061  2024-12-31 20:00:00  2024-12-31 21:00:00  Nederland  ElectricityMix   \n",
       "35062  2024-12-31 21:00:00  2024-12-31 22:00:00  Nederland  ElectricityMix   \n",
       "35063  2024-12-31 22:00:00  2024-12-31 23:00:00  Nederland  ElectricityMix   \n",
       "\n",
       "      granularity timezone   activity classification  capacity (kW)  \\\n",
       "35059        Hour      UTC  Providing        Current       14775988   \n",
       "35060        Hour      UTC  Providing        Current       14406607   \n",
       "35061        Hour      UTC  Providing        Current       14291198   \n",
       "35062        Hour      UTC  Providing        Current       14137435   \n",
       "35063        Hour      UTC  Providing        Current       13976718   \n",
       "\n",
       "       volume (kWh)  percentage  emission (kg CO2)  \\\n",
       "35059      14775988    0.395878            1401628   \n",
       "35060      14406607    0.385977            1242798   \n",
       "35061      14291198    0.382881            1189433   \n",
       "35062      14137435    0.378757            1155729   \n",
       "35063      13976718    0.374447            1084655   \n",
       "\n",
       "       emissionfactor (kg CO2/kWh)  \n",
       "35059                     0.094857  \n",
       "35060                     0.086264  \n",
       "35061                     0.083229  \n",
       "35062                     0.081749  \n",
       "35063                     0.077602  "
      ]
     },
     "execution_count": 8,
     "metadata": {},
     "output_type": "execute_result"
    }
   ],
   "source": [
    "CO2factor.tail() # Display the last few rows of the merged dataset"
   ]
  },
  {
   "cell_type": "code",
   "execution_count": 9,
   "id": "bf72c463",
   "metadata": {},
   "outputs": [
    {
     "name": "stdout",
     "output_type": "stream",
     "text": [
      "validfrom (UTC)                35064\n",
      "validto (UTC)                  35064\n",
      "point                              1\n",
      "type                               1\n",
      "granularity                        1\n",
      "timezone                           1\n",
      "activity                           1\n",
      "classification                     1\n",
      "capacity (kW)                  35016\n",
      "volume (kWh)                   35016\n",
      "percentage                     34838\n",
      "emission (kg CO2)              34942\n",
      "emissionfactor (kg CO2/kWh)    34683\n",
      "dtype: int64\n"
     ]
    }
   ],
   "source": [
    "print(CO2factor.nunique())  # Check for unique values in each column\n",
    "\n"
   ]
  },
  {
   "cell_type": "code",
   "execution_count": 10,
   "id": "ff790572",
   "metadata": {},
   "outputs": [],
   "source": [
    "# Clean the CO2 factor dataset\n",
    "CO2factor = CO2factor.drop(columns={'validto (UTC)',\n",
    "                                               'point', \n",
    "                                               'type', \n",
    "                                               'granularity', \n",
    "                                               'timezone', \n",
    "                                               'activity', \n",
    "                                               'classification', \n",
    "                                               'capacity (kW)', \n",
    "                                               'volume (kWh)', \n",
    "                                               'percentage', \n",
    "                                               'emission (kg CO2)'}\n",
    "                                               )"
   ]
  },
  {
   "cell_type": "code",
   "execution_count": 11,
   "id": "aef9d259",
   "metadata": {},
   "outputs": [],
   "source": [
    "# Rename columns for clarity\n",
    "CO2factor = CO2factor.rename(columns={\n",
    "    'validfrom (UTC)': 'starting_time',\n",
    "    'emissionfactor (kg CO2/kWh)': 'CO2factor'}\n",
    ")"
   ]
  },
  {
   "cell_type": "code",
   "execution_count": 12,
   "id": "923fa427",
   "metadata": {},
   "outputs": [
    {
     "data": {
      "text/plain": [
       "np.int64(0)"
      ]
     },
     "execution_count": 12,
     "metadata": {},
     "output_type": "execute_result"
    }
   ],
   "source": [
    "CO2factor.duplicated().sum()  # Check for duplicates in the dataset"
   ]
  },
  {
   "cell_type": "code",
   "execution_count": 13,
   "id": "5aee71a6",
   "metadata": {},
   "outputs": [
    {
     "data": {
      "text/plain": [
       "starting_time    0\n",
       "CO2factor        0\n",
       "dtype: int64"
      ]
     },
     "execution_count": 13,
     "metadata": {},
     "output_type": "execute_result"
    }
   ],
   "source": [
    "CO2factor.isna().sum()  # Check for missing values in the dataset"
   ]
  },
  {
   "cell_type": "code",
   "execution_count": 14,
   "id": "6500bf04",
   "metadata": {},
   "outputs": [
    {
     "data": {
      "text/html": [
       "<div>\n",
       "<style scoped>\n",
       "    .dataframe tbody tr th:only-of-type {\n",
       "        vertical-align: middle;\n",
       "    }\n",
       "\n",
       "    .dataframe tbody tr th {\n",
       "        vertical-align: top;\n",
       "    }\n",
       "\n",
       "    .dataframe thead th {\n",
       "        text-align: right;\n",
       "    }\n",
       "</style>\n",
       "<table border=\"1\" class=\"dataframe\">\n",
       "  <thead>\n",
       "    <tr style=\"text-align: right;\">\n",
       "      <th></th>\n",
       "      <th>starting_time</th>\n",
       "      <th>CO2factor</th>\n",
       "    </tr>\n",
       "  </thead>\n",
       "  <tbody>\n",
       "    <tr>\n",
       "      <th>0</th>\n",
       "      <td>2020-12-31 23:00:00</td>\n",
       "      <td>0.361425</td>\n",
       "    </tr>\n",
       "    <tr>\n",
       "      <th>1</th>\n",
       "      <td>2021-01-01 00:00:00</td>\n",
       "      <td>0.358140</td>\n",
       "    </tr>\n",
       "    <tr>\n",
       "      <th>2</th>\n",
       "      <td>2021-01-01 01:00:00</td>\n",
       "      <td>0.349210</td>\n",
       "    </tr>\n",
       "    <tr>\n",
       "      <th>3</th>\n",
       "      <td>2021-01-01 02:00:00</td>\n",
       "      <td>0.339635</td>\n",
       "    </tr>\n",
       "    <tr>\n",
       "      <th>4</th>\n",
       "      <td>2021-01-01 03:00:00</td>\n",
       "      <td>0.330915</td>\n",
       "    </tr>\n",
       "  </tbody>\n",
       "</table>\n",
       "</div>"
      ],
      "text/plain": [
       "         starting_time  CO2factor\n",
       "0  2020-12-31 23:00:00   0.361425\n",
       "1  2021-01-01 00:00:00   0.358140\n",
       "2  2021-01-01 01:00:00   0.349210\n",
       "3  2021-01-01 02:00:00   0.339635\n",
       "4  2021-01-01 03:00:00   0.330915"
      ]
     },
     "execution_count": 14,
     "metadata": {},
     "output_type": "execute_result"
    }
   ],
   "source": [
    "CO2factor.head() # view final dataset"
   ]
  },
  {
   "cell_type": "code",
   "execution_count": 15,
   "id": "3ff7f531",
   "metadata": {},
   "outputs": [],
   "source": [
    "# solar energy(X_1)\n",
    "solar_2021 = pd.read_csv(\"zon-2021-uur-data.csv\")\n",
    "solar_2022 = pd.read_csv(\"zon-2022-uur-data.csv\")\n",
    "solar_2023 = pd.read_csv(\"zon-2023-uur-data.csv\")\n",
    "solar_2024 = pd.read_csv(\"zon-2024-uur-data.csv\")  "
   ]
  },
  {
   "cell_type": "code",
   "execution_count": 16,
   "id": "b3445e6e",
   "metadata": {},
   "outputs": [
    {
     "name": "stdout",
     "output_type": "stream",
     "text": [
      "(8760, 13) (8760, 13) (8760, 13) (8784, 13)\n"
     ]
    }
   ],
   "source": [
    "print(solar_2021.shape, solar_2022.shape, solar_2023.shape, solar_2024.shape)  # Check the shapes of the datasets   "
   ]
  },
  {
   "cell_type": "code",
   "execution_count": 17,
   "id": "e1af7de4",
   "metadata": {},
   "outputs": [],
   "source": [
    "solar = pd.concat([solar_2021, solar_2022, solar_2023, solar_2024], ignore_index=True)  # merge the datasets"
   ]
  },
  {
   "cell_type": "code",
   "execution_count": 18,
   "id": "d4cb1c05",
   "metadata": {},
   "outputs": [
    {
     "data": {
      "text/plain": [
       "(35064, 13)"
      ]
     },
     "execution_count": 18,
     "metadata": {},
     "output_type": "execute_result"
    }
   ],
   "source": [
    "solar.shape"
   ]
  },
  {
   "cell_type": "code",
   "execution_count": 19,
   "id": "0757f2bd",
   "metadata": {},
   "outputs": [
    {
     "data": {
      "text/html": [
       "<div>\n",
       "<style scoped>\n",
       "    .dataframe tbody tr th:only-of-type {\n",
       "        vertical-align: middle;\n",
       "    }\n",
       "\n",
       "    .dataframe tbody tr th {\n",
       "        vertical-align: top;\n",
       "    }\n",
       "\n",
       "    .dataframe thead th {\n",
       "        text-align: right;\n",
       "    }\n",
       "</style>\n",
       "<table border=\"1\" class=\"dataframe\">\n",
       "  <thead>\n",
       "    <tr style=\"text-align: right;\">\n",
       "      <th></th>\n",
       "      <th>validfrom (UTC)</th>\n",
       "      <th>validto (UTC)</th>\n",
       "      <th>point</th>\n",
       "      <th>type</th>\n",
       "      <th>granularity</th>\n",
       "      <th>timezone</th>\n",
       "      <th>activity</th>\n",
       "      <th>classification</th>\n",
       "      <th>capacity (kW)</th>\n",
       "      <th>volume (kWh)</th>\n",
       "      <th>percentage</th>\n",
       "      <th>emission (kg CO2)</th>\n",
       "      <th>emissionfactor (kg CO2/kWh)</th>\n",
       "    </tr>\n",
       "  </thead>\n",
       "  <tbody>\n",
       "    <tr>\n",
       "      <th>0</th>\n",
       "      <td>2020-12-31 23:00:00</td>\n",
       "      <td>2021-01-01 00:00:00</td>\n",
       "      <td>Nederland</td>\n",
       "      <td>Solar</td>\n",
       "      <td>Hour</td>\n",
       "      <td>UTC</td>\n",
       "      <td>Providing</td>\n",
       "      <td>Current</td>\n",
       "      <td>0</td>\n",
       "      <td>0</td>\n",
       "      <td>0.0</td>\n",
       "      <td>0</td>\n",
       "      <td>0</td>\n",
       "    </tr>\n",
       "    <tr>\n",
       "      <th>1</th>\n",
       "      <td>2021-01-01 00:00:00</td>\n",
       "      <td>2021-01-01 01:00:00</td>\n",
       "      <td>Nederland</td>\n",
       "      <td>Solar</td>\n",
       "      <td>Hour</td>\n",
       "      <td>UTC</td>\n",
       "      <td>Providing</td>\n",
       "      <td>Current</td>\n",
       "      <td>0</td>\n",
       "      <td>0</td>\n",
       "      <td>0.0</td>\n",
       "      <td>0</td>\n",
       "      <td>0</td>\n",
       "    </tr>\n",
       "    <tr>\n",
       "      <th>2</th>\n",
       "      <td>2021-01-01 01:00:00</td>\n",
       "      <td>2021-01-01 02:00:00</td>\n",
       "      <td>Nederland</td>\n",
       "      <td>Solar</td>\n",
       "      <td>Hour</td>\n",
       "      <td>UTC</td>\n",
       "      <td>Providing</td>\n",
       "      <td>Current</td>\n",
       "      <td>0</td>\n",
       "      <td>0</td>\n",
       "      <td>0.0</td>\n",
       "      <td>0</td>\n",
       "      <td>0</td>\n",
       "    </tr>\n",
       "    <tr>\n",
       "      <th>3</th>\n",
       "      <td>2021-01-01 02:00:00</td>\n",
       "      <td>2021-01-01 03:00:00</td>\n",
       "      <td>Nederland</td>\n",
       "      <td>Solar</td>\n",
       "      <td>Hour</td>\n",
       "      <td>UTC</td>\n",
       "      <td>Providing</td>\n",
       "      <td>Current</td>\n",
       "      <td>0</td>\n",
       "      <td>0</td>\n",
       "      <td>0.0</td>\n",
       "      <td>0</td>\n",
       "      <td>0</td>\n",
       "    </tr>\n",
       "    <tr>\n",
       "      <th>4</th>\n",
       "      <td>2021-01-01 03:00:00</td>\n",
       "      <td>2021-01-01 04:00:00</td>\n",
       "      <td>Nederland</td>\n",
       "      <td>Solar</td>\n",
       "      <td>Hour</td>\n",
       "      <td>UTC</td>\n",
       "      <td>Providing</td>\n",
       "      <td>Current</td>\n",
       "      <td>0</td>\n",
       "      <td>0</td>\n",
       "      <td>0.0</td>\n",
       "      <td>0</td>\n",
       "      <td>0</td>\n",
       "    </tr>\n",
       "  </tbody>\n",
       "</table>\n",
       "</div>"
      ],
      "text/plain": [
       "       validfrom (UTC)        validto (UTC)      point   type granularity  \\\n",
       "0  2020-12-31 23:00:00  2021-01-01 00:00:00  Nederland  Solar        Hour   \n",
       "1  2021-01-01 00:00:00  2021-01-01 01:00:00  Nederland  Solar        Hour   \n",
       "2  2021-01-01 01:00:00  2021-01-01 02:00:00  Nederland  Solar        Hour   \n",
       "3  2021-01-01 02:00:00  2021-01-01 03:00:00  Nederland  Solar        Hour   \n",
       "4  2021-01-01 03:00:00  2021-01-01 04:00:00  Nederland  Solar        Hour   \n",
       "\n",
       "  timezone   activity classification  capacity (kW)  volume (kWh)  percentage  \\\n",
       "0      UTC  Providing        Current              0             0         0.0   \n",
       "1      UTC  Providing        Current              0             0         0.0   \n",
       "2      UTC  Providing        Current              0             0         0.0   \n",
       "3      UTC  Providing        Current              0             0         0.0   \n",
       "4      UTC  Providing        Current              0             0         0.0   \n",
       "\n",
       "   emission (kg CO2)  emissionfactor (kg CO2/kWh)  \n",
       "0                  0                            0  \n",
       "1                  0                            0  \n",
       "2                  0                            0  \n",
       "3                  0                            0  \n",
       "4                  0                            0  "
      ]
     },
     "execution_count": 19,
     "metadata": {},
     "output_type": "execute_result"
    }
   ],
   "source": [
    "solar.head(5)  # display the first few rows of the merged dataset"
   ]
  },
  {
   "cell_type": "code",
   "execution_count": 20,
   "id": "482ecac0",
   "metadata": {},
   "outputs": [
    {
     "data": {
      "text/html": [
       "<div>\n",
       "<style scoped>\n",
       "    .dataframe tbody tr th:only-of-type {\n",
       "        vertical-align: middle;\n",
       "    }\n",
       "\n",
       "    .dataframe tbody tr th {\n",
       "        vertical-align: top;\n",
       "    }\n",
       "\n",
       "    .dataframe thead th {\n",
       "        text-align: right;\n",
       "    }\n",
       "</style>\n",
       "<table border=\"1\" class=\"dataframe\">\n",
       "  <thead>\n",
       "    <tr style=\"text-align: right;\">\n",
       "      <th></th>\n",
       "      <th>validfrom (UTC)</th>\n",
       "      <th>validto (UTC)</th>\n",
       "      <th>point</th>\n",
       "      <th>type</th>\n",
       "      <th>granularity</th>\n",
       "      <th>timezone</th>\n",
       "      <th>activity</th>\n",
       "      <th>classification</th>\n",
       "      <th>capacity (kW)</th>\n",
       "      <th>volume (kWh)</th>\n",
       "      <th>percentage</th>\n",
       "      <th>emission (kg CO2)</th>\n",
       "      <th>emissionfactor (kg CO2/kWh)</th>\n",
       "    </tr>\n",
       "  </thead>\n",
       "  <tbody>\n",
       "    <tr>\n",
       "      <th>35059</th>\n",
       "      <td>2024-12-31 18:00:00</td>\n",
       "      <td>2024-12-31 19:00:00</td>\n",
       "      <td>Nederland</td>\n",
       "      <td>Solar</td>\n",
       "      <td>Hour</td>\n",
       "      <td>UTC</td>\n",
       "      <td>Providing</td>\n",
       "      <td>Current</td>\n",
       "      <td>0</td>\n",
       "      <td>0</td>\n",
       "      <td>0.0</td>\n",
       "      <td>0</td>\n",
       "      <td>0</td>\n",
       "    </tr>\n",
       "    <tr>\n",
       "      <th>35060</th>\n",
       "      <td>2024-12-31 19:00:00</td>\n",
       "      <td>2024-12-31 20:00:00</td>\n",
       "      <td>Nederland</td>\n",
       "      <td>Solar</td>\n",
       "      <td>Hour</td>\n",
       "      <td>UTC</td>\n",
       "      <td>Providing</td>\n",
       "      <td>Current</td>\n",
       "      <td>0</td>\n",
       "      <td>0</td>\n",
       "      <td>0.0</td>\n",
       "      <td>0</td>\n",
       "      <td>0</td>\n",
       "    </tr>\n",
       "    <tr>\n",
       "      <th>35061</th>\n",
       "      <td>2024-12-31 20:00:00</td>\n",
       "      <td>2024-12-31 21:00:00</td>\n",
       "      <td>Nederland</td>\n",
       "      <td>Solar</td>\n",
       "      <td>Hour</td>\n",
       "      <td>UTC</td>\n",
       "      <td>Providing</td>\n",
       "      <td>Current</td>\n",
       "      <td>0</td>\n",
       "      <td>0</td>\n",
       "      <td>0.0</td>\n",
       "      <td>0</td>\n",
       "      <td>0</td>\n",
       "    </tr>\n",
       "    <tr>\n",
       "      <th>35062</th>\n",
       "      <td>2024-12-31 21:00:00</td>\n",
       "      <td>2024-12-31 22:00:00</td>\n",
       "      <td>Nederland</td>\n",
       "      <td>Solar</td>\n",
       "      <td>Hour</td>\n",
       "      <td>UTC</td>\n",
       "      <td>Providing</td>\n",
       "      <td>Current</td>\n",
       "      <td>0</td>\n",
       "      <td>0</td>\n",
       "      <td>0.0</td>\n",
       "      <td>0</td>\n",
       "      <td>0</td>\n",
       "    </tr>\n",
       "    <tr>\n",
       "      <th>35063</th>\n",
       "      <td>2024-12-31 22:00:00</td>\n",
       "      <td>2024-12-31 23:00:00</td>\n",
       "      <td>Nederland</td>\n",
       "      <td>Solar</td>\n",
       "      <td>Hour</td>\n",
       "      <td>UTC</td>\n",
       "      <td>Providing</td>\n",
       "      <td>Current</td>\n",
       "      <td>0</td>\n",
       "      <td>0</td>\n",
       "      <td>0.0</td>\n",
       "      <td>0</td>\n",
       "      <td>0</td>\n",
       "    </tr>\n",
       "  </tbody>\n",
       "</table>\n",
       "</div>"
      ],
      "text/plain": [
       "           validfrom (UTC)        validto (UTC)      point   type granularity  \\\n",
       "35059  2024-12-31 18:00:00  2024-12-31 19:00:00  Nederland  Solar        Hour   \n",
       "35060  2024-12-31 19:00:00  2024-12-31 20:00:00  Nederland  Solar        Hour   \n",
       "35061  2024-12-31 20:00:00  2024-12-31 21:00:00  Nederland  Solar        Hour   \n",
       "35062  2024-12-31 21:00:00  2024-12-31 22:00:00  Nederland  Solar        Hour   \n",
       "35063  2024-12-31 22:00:00  2024-12-31 23:00:00  Nederland  Solar        Hour   \n",
       "\n",
       "      timezone   activity classification  capacity (kW)  volume (kWh)  \\\n",
       "35059      UTC  Providing        Current              0             0   \n",
       "35060      UTC  Providing        Current              0             0   \n",
       "35061      UTC  Providing        Current              0             0   \n",
       "35062      UTC  Providing        Current              0             0   \n",
       "35063      UTC  Providing        Current              0             0   \n",
       "\n",
       "       percentage  emission (kg CO2)  emissionfactor (kg CO2/kWh)  \n",
       "35059         0.0                  0                            0  \n",
       "35060         0.0                  0                            0  \n",
       "35061         0.0                  0                            0  \n",
       "35062         0.0                  0                            0  \n",
       "35063         0.0                  0                            0  "
      ]
     },
     "execution_count": 20,
     "metadata": {},
     "output_type": "execute_result"
    }
   ],
   "source": [
    "solar.tail()  # Display the last few rows of the merged dataset"
   ]
  },
  {
   "cell_type": "code",
   "execution_count": 21,
   "id": "3532ec15",
   "metadata": {},
   "outputs": [
    {
     "name": "stdout",
     "output_type": "stream",
     "text": [
      "validfrom (UTC)                35064\n",
      "validto (UTC)                  35064\n",
      "point                              1\n",
      "type                               1\n",
      "granularity                        1\n",
      "timezone                           1\n",
      "activity                           1\n",
      "classification                     1\n",
      "capacity (kW)                  19123\n",
      "volume (kWh)                   19123\n",
      "percentage                     19149\n",
      "emission (kg CO2)                  1\n",
      "emissionfactor (kg CO2/kWh)        1\n",
      "dtype: int64\n"
     ]
    }
   ],
   "source": [
    "print(solar.nunique())  # Check for unique values in each column\n",
    "\n"
   ]
  },
  {
   "cell_type": "code",
   "execution_count": 22,
   "id": "8c339315",
   "metadata": {},
   "outputs": [],
   "source": [
    "# Clean the CO2 factor dataset\n",
    "solar = solar.drop(columns={'validto (UTC)',\n",
    "                                               'point', \n",
    "                                               'type', \n",
    "                                               'granularity', \n",
    "                                               'timezone', \n",
    "                                               'activity', \n",
    "                                               'classification', \n",
    "                                               'capacity (kW)', \n",
    "                                               'emissionfactor (kg CO2/kWh)', \n",
    "                                               'percentage', \n",
    "                                               'emission (kg CO2)'}\n",
    "                                               )"
   ]
  },
  {
   "cell_type": "code",
   "execution_count": 23,
   "id": "9973b0da",
   "metadata": {},
   "outputs": [],
   "source": [
    "# Rename columns for clarity\n",
    "solar = solar.rename(columns={\n",
    "    'validfrom (UTC)': 'starting_time',\n",
    "    'volume (kWh)': 'solar'}\n",
    ")"
   ]
  },
  {
   "cell_type": "code",
   "execution_count": 24,
   "id": "47e5a722",
   "metadata": {},
   "outputs": [
    {
     "data": {
      "text/plain": [
       "np.int64(0)"
      ]
     },
     "execution_count": 24,
     "metadata": {},
     "output_type": "execute_result"
    }
   ],
   "source": [
    "solar.duplicated().sum()  # Check for duplicates in the dataset"
   ]
  },
  {
   "cell_type": "code",
   "execution_count": 25,
   "id": "2e8bb0a0",
   "metadata": {},
   "outputs": [
    {
     "data": {
      "text/plain": [
       "starting_time    0\n",
       "solar            0\n",
       "dtype: int64"
      ]
     },
     "execution_count": 25,
     "metadata": {},
     "output_type": "execute_result"
    }
   ],
   "source": [
    "solar.isna().sum()  # Check for missing values in the dataset"
   ]
  },
  {
   "cell_type": "code",
   "execution_count": 26,
   "id": "a64119dc",
   "metadata": {},
   "outputs": [
    {
     "data": {
      "text/html": [
       "<div>\n",
       "<style scoped>\n",
       "    .dataframe tbody tr th:only-of-type {\n",
       "        vertical-align: middle;\n",
       "    }\n",
       "\n",
       "    .dataframe tbody tr th {\n",
       "        vertical-align: top;\n",
       "    }\n",
       "\n",
       "    .dataframe thead th {\n",
       "        text-align: right;\n",
       "    }\n",
       "</style>\n",
       "<table border=\"1\" class=\"dataframe\">\n",
       "  <thead>\n",
       "    <tr style=\"text-align: right;\">\n",
       "      <th></th>\n",
       "      <th>starting_time</th>\n",
       "      <th>solar</th>\n",
       "    </tr>\n",
       "  </thead>\n",
       "  <tbody>\n",
       "    <tr>\n",
       "      <th>0</th>\n",
       "      <td>2020-12-31 23:00:00</td>\n",
       "      <td>0</td>\n",
       "    </tr>\n",
       "    <tr>\n",
       "      <th>1</th>\n",
       "      <td>2021-01-01 00:00:00</td>\n",
       "      <td>0</td>\n",
       "    </tr>\n",
       "    <tr>\n",
       "      <th>2</th>\n",
       "      <td>2021-01-01 01:00:00</td>\n",
       "      <td>0</td>\n",
       "    </tr>\n",
       "    <tr>\n",
       "      <th>3</th>\n",
       "      <td>2021-01-01 02:00:00</td>\n",
       "      <td>0</td>\n",
       "    </tr>\n",
       "    <tr>\n",
       "      <th>4</th>\n",
       "      <td>2021-01-01 03:00:00</td>\n",
       "      <td>0</td>\n",
       "    </tr>\n",
       "  </tbody>\n",
       "</table>\n",
       "</div>"
      ],
      "text/plain": [
       "         starting_time  solar\n",
       "0  2020-12-31 23:00:00      0\n",
       "1  2021-01-01 00:00:00      0\n",
       "2  2021-01-01 01:00:00      0\n",
       "3  2021-01-01 02:00:00      0\n",
       "4  2021-01-01 03:00:00      0"
      ]
     },
     "execution_count": 26,
     "metadata": {},
     "output_type": "execute_result"
    }
   ],
   "source": [
    "solar.head()"
   ]
  },
  {
   "cell_type": "code",
   "execution_count": 27,
   "id": "fd4cc382",
   "metadata": {},
   "outputs": [],
   "source": [
    "# wind energy onshore (X_2)\n",
    "wind_onshore_2021 = pd.read_csv(\"wind-2021-uur-data.csv\")\n",
    "wind_onshore_2022 = pd.read_csv(\"wind-2022-uur-data.csv\")\n",
    "wind_onshore_2023 = pd.read_csv(\"wind-2023-uur-data.csv\")\n",
    "wind_onshore_2024 = pd.read_csv(\"wind-2024-uur-data.csv\")"
   ]
  },
  {
   "cell_type": "code",
   "execution_count": 28,
   "id": "556c7c9a",
   "metadata": {},
   "outputs": [
    {
     "name": "stdout",
     "output_type": "stream",
     "text": [
      "(8760, 13) (8760, 13) (8760, 13) (8784, 13)\n"
     ]
    }
   ],
   "source": [
    "print(wind_onshore_2021.shape, wind_onshore_2022.shape, wind_onshore_2023.shape, wind_onshore_2024.shape)  # Check the shapes of the datasets"
   ]
  },
  {
   "cell_type": "code",
   "execution_count": 29,
   "id": "a5bbf670",
   "metadata": {},
   "outputs": [],
   "source": [
    "landwind = pd.concat([wind_onshore_2021, wind_onshore_2022, wind_onshore_2023, wind_onshore_2024], ignore_index=True)  # merge the datasets"
   ]
  },
  {
   "cell_type": "code",
   "execution_count": 30,
   "id": "62ec63b4",
   "metadata": {},
   "outputs": [
    {
     "data": {
      "text/plain": [
       "(35064, 13)"
      ]
     },
     "execution_count": 30,
     "metadata": {},
     "output_type": "execute_result"
    }
   ],
   "source": [
    "landwind.shape"
   ]
  },
  {
   "cell_type": "code",
   "execution_count": 31,
   "id": "05bbbe6b",
   "metadata": {},
   "outputs": [
    {
     "data": {
      "text/html": [
       "<div>\n",
       "<style scoped>\n",
       "    .dataframe tbody tr th:only-of-type {\n",
       "        vertical-align: middle;\n",
       "    }\n",
       "\n",
       "    .dataframe tbody tr th {\n",
       "        vertical-align: top;\n",
       "    }\n",
       "\n",
       "    .dataframe thead th {\n",
       "        text-align: right;\n",
       "    }\n",
       "</style>\n",
       "<table border=\"1\" class=\"dataframe\">\n",
       "  <thead>\n",
       "    <tr style=\"text-align: right;\">\n",
       "      <th></th>\n",
       "      <th>validfrom (UTC)</th>\n",
       "      <th>validto (UTC)</th>\n",
       "      <th>point</th>\n",
       "      <th>type</th>\n",
       "      <th>granularity</th>\n",
       "      <th>timezone</th>\n",
       "      <th>activity</th>\n",
       "      <th>classification</th>\n",
       "      <th>capacity (kW)</th>\n",
       "      <th>volume (kWh)</th>\n",
       "      <th>percentage</th>\n",
       "      <th>emission (kg CO2)</th>\n",
       "      <th>emissionfactor (kg CO2/kWh)</th>\n",
       "    </tr>\n",
       "  </thead>\n",
       "  <tbody>\n",
       "    <tr>\n",
       "      <th>0</th>\n",
       "      <td>2020-12-31 23:00:00</td>\n",
       "      <td>2021-01-01 00:00:00</td>\n",
       "      <td>Nederland</td>\n",
       "      <td>Wind</td>\n",
       "      <td>Hour</td>\n",
       "      <td>UTC</td>\n",
       "      <td>Providing</td>\n",
       "      <td>Current</td>\n",
       "      <td>82894</td>\n",
       "      <td>82894</td>\n",
       "      <td>0.023317</td>\n",
       "      <td>0</td>\n",
       "      <td>0</td>\n",
       "    </tr>\n",
       "    <tr>\n",
       "      <th>1</th>\n",
       "      <td>2021-01-01 00:00:00</td>\n",
       "      <td>2021-01-01 01:00:00</td>\n",
       "      <td>Nederland</td>\n",
       "      <td>Wind</td>\n",
       "      <td>Hour</td>\n",
       "      <td>UTC</td>\n",
       "      <td>Providing</td>\n",
       "      <td>Current</td>\n",
       "      <td>95906</td>\n",
       "      <td>95906</td>\n",
       "      <td>0.026977</td>\n",
       "      <td>0</td>\n",
       "      <td>0</td>\n",
       "    </tr>\n",
       "    <tr>\n",
       "      <th>2</th>\n",
       "      <td>2021-01-01 01:00:00</td>\n",
       "      <td>2021-01-01 02:00:00</td>\n",
       "      <td>Nederland</td>\n",
       "      <td>Wind</td>\n",
       "      <td>Hour</td>\n",
       "      <td>UTC</td>\n",
       "      <td>Providing</td>\n",
       "      <td>Current</td>\n",
       "      <td>122117</td>\n",
       "      <td>122117</td>\n",
       "      <td>0.034349</td>\n",
       "      <td>0</td>\n",
       "      <td>0</td>\n",
       "    </tr>\n",
       "    <tr>\n",
       "      <th>3</th>\n",
       "      <td>2021-01-01 02:00:00</td>\n",
       "      <td>2021-01-01 03:00:00</td>\n",
       "      <td>Nederland</td>\n",
       "      <td>Wind</td>\n",
       "      <td>Hour</td>\n",
       "      <td>UTC</td>\n",
       "      <td>Providing</td>\n",
       "      <td>Current</td>\n",
       "      <td>87353</td>\n",
       "      <td>87353</td>\n",
       "      <td>0.024571</td>\n",
       "      <td>0</td>\n",
       "      <td>0</td>\n",
       "    </tr>\n",
       "    <tr>\n",
       "      <th>4</th>\n",
       "      <td>2021-01-01 03:00:00</td>\n",
       "      <td>2021-01-01 04:00:00</td>\n",
       "      <td>Nederland</td>\n",
       "      <td>Wind</td>\n",
       "      <td>Hour</td>\n",
       "      <td>UTC</td>\n",
       "      <td>Providing</td>\n",
       "      <td>Current</td>\n",
       "      <td>59687</td>\n",
       "      <td>59687</td>\n",
       "      <td>0.016788</td>\n",
       "      <td>0</td>\n",
       "      <td>0</td>\n",
       "    </tr>\n",
       "  </tbody>\n",
       "</table>\n",
       "</div>"
      ],
      "text/plain": [
       "       validfrom (UTC)        validto (UTC)      point  type granularity  \\\n",
       "0  2020-12-31 23:00:00  2021-01-01 00:00:00  Nederland  Wind        Hour   \n",
       "1  2021-01-01 00:00:00  2021-01-01 01:00:00  Nederland  Wind        Hour   \n",
       "2  2021-01-01 01:00:00  2021-01-01 02:00:00  Nederland  Wind        Hour   \n",
       "3  2021-01-01 02:00:00  2021-01-01 03:00:00  Nederland  Wind        Hour   \n",
       "4  2021-01-01 03:00:00  2021-01-01 04:00:00  Nederland  Wind        Hour   \n",
       "\n",
       "  timezone   activity classification  capacity (kW)  volume (kWh)  percentage  \\\n",
       "0      UTC  Providing        Current          82894         82894    0.023317   \n",
       "1      UTC  Providing        Current          95906         95906    0.026977   \n",
       "2      UTC  Providing        Current         122117        122117    0.034349   \n",
       "3      UTC  Providing        Current          87353         87353    0.024571   \n",
       "4      UTC  Providing        Current          59687         59687    0.016788   \n",
       "\n",
       "   emission (kg CO2)  emissionfactor (kg CO2/kWh)  \n",
       "0                  0                            0  \n",
       "1                  0                            0  \n",
       "2                  0                            0  \n",
       "3                  0                            0  \n",
       "4                  0                            0  "
      ]
     },
     "execution_count": 31,
     "metadata": {},
     "output_type": "execute_result"
    }
   ],
   "source": [
    "landwind.head()"
   ]
  },
  {
   "cell_type": "code",
   "execution_count": 32,
   "id": "03fc7729",
   "metadata": {},
   "outputs": [
    {
     "data": {
      "text/html": [
       "<div>\n",
       "<style scoped>\n",
       "    .dataframe tbody tr th:only-of-type {\n",
       "        vertical-align: middle;\n",
       "    }\n",
       "\n",
       "    .dataframe tbody tr th {\n",
       "        vertical-align: top;\n",
       "    }\n",
       "\n",
       "    .dataframe thead th {\n",
       "        text-align: right;\n",
       "    }\n",
       "</style>\n",
       "<table border=\"1\" class=\"dataframe\">\n",
       "  <thead>\n",
       "    <tr style=\"text-align: right;\">\n",
       "      <th></th>\n",
       "      <th>validfrom (UTC)</th>\n",
       "      <th>validto (UTC)</th>\n",
       "      <th>point</th>\n",
       "      <th>type</th>\n",
       "      <th>granularity</th>\n",
       "      <th>timezone</th>\n",
       "      <th>activity</th>\n",
       "      <th>classification</th>\n",
       "      <th>capacity (kW)</th>\n",
       "      <th>volume (kWh)</th>\n",
       "      <th>percentage</th>\n",
       "      <th>emission (kg CO2)</th>\n",
       "      <th>emissionfactor (kg CO2/kWh)</th>\n",
       "    </tr>\n",
       "  </thead>\n",
       "  <tbody>\n",
       "    <tr>\n",
       "      <th>35059</th>\n",
       "      <td>2024-12-31 18:00:00</td>\n",
       "      <td>2024-12-31 19:00:00</td>\n",
       "      <td>Nederland</td>\n",
       "      <td>Wind</td>\n",
       "      <td>Hour</td>\n",
       "      <td>UTC</td>\n",
       "      <td>Providing</td>\n",
       "      <td>Current</td>\n",
       "      <td>6375458</td>\n",
       "      <td>6375458</td>\n",
       "      <td>0.973078</td>\n",
       "      <td>0</td>\n",
       "      <td>0</td>\n",
       "    </tr>\n",
       "    <tr>\n",
       "      <th>35060</th>\n",
       "      <td>2024-12-31 19:00:00</td>\n",
       "      <td>2024-12-31 20:00:00</td>\n",
       "      <td>Nederland</td>\n",
       "      <td>Wind</td>\n",
       "      <td>Hour</td>\n",
       "      <td>UTC</td>\n",
       "      <td>Providing</td>\n",
       "      <td>Current</td>\n",
       "      <td>6448966</td>\n",
       "      <td>6448966</td>\n",
       "      <td>0.984291</td>\n",
       "      <td>0</td>\n",
       "      <td>0</td>\n",
       "    </tr>\n",
       "    <tr>\n",
       "      <th>35061</th>\n",
       "      <td>2024-12-31 20:00:00</td>\n",
       "      <td>2024-12-31 21:00:00</td>\n",
       "      <td>Nederland</td>\n",
       "      <td>Wind</td>\n",
       "      <td>Hour</td>\n",
       "      <td>UTC</td>\n",
       "      <td>Providing</td>\n",
       "      <td>Current</td>\n",
       "      <td>6472458</td>\n",
       "      <td>6472458</td>\n",
       "      <td>0.987871</td>\n",
       "      <td>0</td>\n",
       "      <td>0</td>\n",
       "    </tr>\n",
       "    <tr>\n",
       "      <th>35062</th>\n",
       "      <td>2024-12-31 21:00:00</td>\n",
       "      <td>2024-12-31 22:00:00</td>\n",
       "      <td>Nederland</td>\n",
       "      <td>Wind</td>\n",
       "      <td>Hour</td>\n",
       "      <td>UTC</td>\n",
       "      <td>Providing</td>\n",
       "      <td>Current</td>\n",
       "      <td>6486790</td>\n",
       "      <td>6486790</td>\n",
       "      <td>0.990052</td>\n",
       "      <td>0</td>\n",
       "      <td>0</td>\n",
       "    </tr>\n",
       "    <tr>\n",
       "      <th>35063</th>\n",
       "      <td>2024-12-31 22:00:00</td>\n",
       "      <td>2024-12-31 23:00:00</td>\n",
       "      <td>Nederland</td>\n",
       "      <td>Wind</td>\n",
       "      <td>Hour</td>\n",
       "      <td>UTC</td>\n",
       "      <td>Providing</td>\n",
       "      <td>Current</td>\n",
       "      <td>6499171</td>\n",
       "      <td>6499171</td>\n",
       "      <td>0.991935</td>\n",
       "      <td>0</td>\n",
       "      <td>0</td>\n",
       "    </tr>\n",
       "  </tbody>\n",
       "</table>\n",
       "</div>"
      ],
      "text/plain": [
       "           validfrom (UTC)        validto (UTC)      point  type granularity  \\\n",
       "35059  2024-12-31 18:00:00  2024-12-31 19:00:00  Nederland  Wind        Hour   \n",
       "35060  2024-12-31 19:00:00  2024-12-31 20:00:00  Nederland  Wind        Hour   \n",
       "35061  2024-12-31 20:00:00  2024-12-31 21:00:00  Nederland  Wind        Hour   \n",
       "35062  2024-12-31 21:00:00  2024-12-31 22:00:00  Nederland  Wind        Hour   \n",
       "35063  2024-12-31 22:00:00  2024-12-31 23:00:00  Nederland  Wind        Hour   \n",
       "\n",
       "      timezone   activity classification  capacity (kW)  volume (kWh)  \\\n",
       "35059      UTC  Providing        Current        6375458       6375458   \n",
       "35060      UTC  Providing        Current        6448966       6448966   \n",
       "35061      UTC  Providing        Current        6472458       6472458   \n",
       "35062      UTC  Providing        Current        6486790       6486790   \n",
       "35063      UTC  Providing        Current        6499171       6499171   \n",
       "\n",
       "       percentage  emission (kg CO2)  emissionfactor (kg CO2/kWh)  \n",
       "35059    0.973078                  0                            0  \n",
       "35060    0.984291                  0                            0  \n",
       "35061    0.987871                  0                            0  \n",
       "35062    0.990052                  0                            0  \n",
       "35063    0.991935                  0                            0  "
      ]
     },
     "execution_count": 32,
     "metadata": {},
     "output_type": "execute_result"
    }
   ],
   "source": [
    "landwind.tail()"
   ]
  },
  {
   "cell_type": "code",
   "execution_count": 33,
   "id": "7d385013",
   "metadata": {},
   "outputs": [
    {
     "name": "stdout",
     "output_type": "stream",
     "text": [
      "validfrom (UTC)                35064\n",
      "validto (UTC)                  35064\n",
      "point                              1\n",
      "type                               1\n",
      "granularity                        1\n",
      "timezone                           1\n",
      "activity                           1\n",
      "classification                     1\n",
      "capacity (kW)                  34056\n",
      "volume (kWh)                   34056\n",
      "percentage                     34105\n",
      "emission (kg CO2)                  1\n",
      "emissionfactor (kg CO2/kWh)        1\n",
      "dtype: int64\n"
     ]
    }
   ],
   "source": [
    "print(landwind.nunique())  # Check for unique values in each column\n",
    "\n"
   ]
  },
  {
   "cell_type": "code",
   "execution_count": 34,
   "id": "7c0c2807",
   "metadata": {},
   "outputs": [],
   "source": [
    "# Clean the CO2 factor dataset\n",
    "landwind = landwind.drop(columns={'validto (UTC)',\n",
    "                                               'point', \n",
    "                                               'type', \n",
    "                                               'granularity', \n",
    "                                               'timezone', \n",
    "                                               'activity', \n",
    "                                               'classification', \n",
    "                                               'capacity (kW)', \n",
    "                                               'emissionfactor (kg CO2/kWh)', \n",
    "                                               'percentage', \n",
    "                                               'emission (kg CO2)'}\n",
    "                                               )"
   ]
  },
  {
   "cell_type": "code",
   "execution_count": 35,
   "id": "ecccaac2",
   "metadata": {},
   "outputs": [],
   "source": [
    "# Rename columns for clarity\n",
    "landwind = landwind.rename(columns={\n",
    "    'validfrom (UTC)': 'starting_time',\n",
    "    'volume (kWh)': 'landwind'}\n",
    ")"
   ]
  },
  {
   "cell_type": "code",
   "execution_count": 36,
   "id": "c559ea9f",
   "metadata": {},
   "outputs": [
    {
     "data": {
      "text/plain": [
       "np.int64(0)"
      ]
     },
     "execution_count": 36,
     "metadata": {},
     "output_type": "execute_result"
    }
   ],
   "source": [
    "landwind.duplicated().sum()  # Check for duplicates in the dataset"
   ]
  },
  {
   "cell_type": "code",
   "execution_count": 37,
   "id": "ffa19aa6",
   "metadata": {},
   "outputs": [
    {
     "data": {
      "text/plain": [
       "starting_time    0\n",
       "landwind         0\n",
       "dtype: int64"
      ]
     },
     "execution_count": 37,
     "metadata": {},
     "output_type": "execute_result"
    }
   ],
   "source": [
    "landwind.isna().sum()  # Check for missing values in the dataset"
   ]
  },
  {
   "cell_type": "code",
   "execution_count": 38,
   "id": "05cbe5f5",
   "metadata": {},
   "outputs": [
    {
     "data": {
      "text/html": [
       "<div>\n",
       "<style scoped>\n",
       "    .dataframe tbody tr th:only-of-type {\n",
       "        vertical-align: middle;\n",
       "    }\n",
       "\n",
       "    .dataframe tbody tr th {\n",
       "        vertical-align: top;\n",
       "    }\n",
       "\n",
       "    .dataframe thead th {\n",
       "        text-align: right;\n",
       "    }\n",
       "</style>\n",
       "<table border=\"1\" class=\"dataframe\">\n",
       "  <thead>\n",
       "    <tr style=\"text-align: right;\">\n",
       "      <th></th>\n",
       "      <th>starting_time</th>\n",
       "      <th>landwind</th>\n",
       "    </tr>\n",
       "  </thead>\n",
       "  <tbody>\n",
       "    <tr>\n",
       "      <th>0</th>\n",
       "      <td>2020-12-31 23:00:00</td>\n",
       "      <td>82894</td>\n",
       "    </tr>\n",
       "    <tr>\n",
       "      <th>1</th>\n",
       "      <td>2021-01-01 00:00:00</td>\n",
       "      <td>95906</td>\n",
       "    </tr>\n",
       "    <tr>\n",
       "      <th>2</th>\n",
       "      <td>2021-01-01 01:00:00</td>\n",
       "      <td>122117</td>\n",
       "    </tr>\n",
       "    <tr>\n",
       "      <th>3</th>\n",
       "      <td>2021-01-01 02:00:00</td>\n",
       "      <td>87353</td>\n",
       "    </tr>\n",
       "    <tr>\n",
       "      <th>4</th>\n",
       "      <td>2021-01-01 03:00:00</td>\n",
       "      <td>59687</td>\n",
       "    </tr>\n",
       "  </tbody>\n",
       "</table>\n",
       "</div>"
      ],
      "text/plain": [
       "         starting_time  landwind\n",
       "0  2020-12-31 23:00:00     82894\n",
       "1  2021-01-01 00:00:00     95906\n",
       "2  2021-01-01 01:00:00    122117\n",
       "3  2021-01-01 02:00:00     87353\n",
       "4  2021-01-01 03:00:00     59687"
      ]
     },
     "execution_count": 38,
     "metadata": {},
     "output_type": "execute_result"
    }
   ],
   "source": [
    "landwind.head()"
   ]
  },
  {
   "cell_type": "code",
   "execution_count": 39,
   "id": "99ae10de",
   "metadata": {},
   "outputs": [],
   "source": [
    "# wind energy offshore (X_3)\n",
    "seawind_2021 = pd.read_csv(\"zeewind-2021-uur-data.csv\")\n",
    "seawind_2022 = pd.read_csv(\"zeewind-2022-uur-data.csv\")\n",
    "seawind_2023 = pd.read_csv(\"zeewind-2023-uur-data.csv\")\n",
    "seawind_2024 = pd.read_csv(\"zeewind-2024-uur-data.csv\") "
   ]
  },
  {
   "cell_type": "code",
   "execution_count": 40,
   "id": "86e39d14",
   "metadata": {},
   "outputs": [
    {
     "name": "stdout",
     "output_type": "stream",
     "text": [
      "(8760, 13) (8760, 13) (8760, 13) (8784, 13)\n"
     ]
    }
   ],
   "source": [
    "print(seawind_2021.shape, seawind_2022.shape, seawind_2023.shape, seawind_2024.shape)  # Check the shapes of the datasets"
   ]
  },
  {
   "cell_type": "code",
   "execution_count": 41,
   "id": "c7696a65",
   "metadata": {},
   "outputs": [
    {
     "name": "stdout",
     "output_type": "stream",
     "text": [
      "(8760, 13) (8760, 13) (8760, 13) (8784, 13)\n"
     ]
    }
   ],
   "source": [
    "print(seawind_2021.shape, seawind_2022.shape, seawind_2023.shape, seawind_2024.shape)  # Check the shapes of the datasets"
   ]
  },
  {
   "cell_type": "code",
   "execution_count": 42,
   "id": "ea343484",
   "metadata": {},
   "outputs": [],
   "source": [
    "seawind = pd.concat([seawind_2021, seawind_2022, seawind_2023, seawind_2024], ignore_index=True)  # merge the datasets"
   ]
  },
  {
   "cell_type": "code",
   "execution_count": 43,
   "id": "dffc6579",
   "metadata": {},
   "outputs": [
    {
     "data": {
      "text/plain": [
       "(35064, 13)"
      ]
     },
     "execution_count": 43,
     "metadata": {},
     "output_type": "execute_result"
    }
   ],
   "source": [
    "seawind.shape"
   ]
  },
  {
   "cell_type": "code",
   "execution_count": 44,
   "id": "316ee1ab",
   "metadata": {},
   "outputs": [
    {
     "data": {
      "text/html": [
       "<div>\n",
       "<style scoped>\n",
       "    .dataframe tbody tr th:only-of-type {\n",
       "        vertical-align: middle;\n",
       "    }\n",
       "\n",
       "    .dataframe tbody tr th {\n",
       "        vertical-align: top;\n",
       "    }\n",
       "\n",
       "    .dataframe thead th {\n",
       "        text-align: right;\n",
       "    }\n",
       "</style>\n",
       "<table border=\"1\" class=\"dataframe\">\n",
       "  <thead>\n",
       "    <tr style=\"text-align: right;\">\n",
       "      <th></th>\n",
       "      <th>validfrom (UTC)</th>\n",
       "      <th>validto (UTC)</th>\n",
       "      <th>point</th>\n",
       "      <th>type</th>\n",
       "      <th>granularity</th>\n",
       "      <th>timezone</th>\n",
       "      <th>activity</th>\n",
       "      <th>classification</th>\n",
       "      <th>capacity (kW)</th>\n",
       "      <th>volume (kWh)</th>\n",
       "      <th>percentage</th>\n",
       "      <th>emission (kg CO2)</th>\n",
       "      <th>emissionfactor (kg CO2/kWh)</th>\n",
       "    </tr>\n",
       "  </thead>\n",
       "  <tbody>\n",
       "    <tr>\n",
       "      <th>0</th>\n",
       "      <td>2020-12-31 23:00:00</td>\n",
       "      <td>2021-01-01 00:00:00</td>\n",
       "      <td>Nederland</td>\n",
       "      <td>WindOffshoreC</td>\n",
       "      <td>Hour</td>\n",
       "      <td>UTC</td>\n",
       "      <td>Providing</td>\n",
       "      <td>Current</td>\n",
       "      <td>256749</td>\n",
       "      <td>256749</td>\n",
       "      <td>0.116869</td>\n",
       "      <td>0</td>\n",
       "      <td>0</td>\n",
       "    </tr>\n",
       "    <tr>\n",
       "      <th>1</th>\n",
       "      <td>2021-01-01 00:00:00</td>\n",
       "      <td>2021-01-01 01:00:00</td>\n",
       "      <td>Nederland</td>\n",
       "      <td>WindOffshoreC</td>\n",
       "      <td>Hour</td>\n",
       "      <td>UTC</td>\n",
       "      <td>Providing</td>\n",
       "      <td>Current</td>\n",
       "      <td>325500</td>\n",
       "      <td>325500</td>\n",
       "      <td>0.148163</td>\n",
       "      <td>0</td>\n",
       "      <td>0</td>\n",
       "    </tr>\n",
       "    <tr>\n",
       "      <th>2</th>\n",
       "      <td>2021-01-01 01:00:00</td>\n",
       "      <td>2021-01-01 02:00:00</td>\n",
       "      <td>Nederland</td>\n",
       "      <td>WindOffshoreC</td>\n",
       "      <td>Hour</td>\n",
       "      <td>UTC</td>\n",
       "      <td>Providing</td>\n",
       "      <td>Current</td>\n",
       "      <td>332500</td>\n",
       "      <td>332500</td>\n",
       "      <td>0.151349</td>\n",
       "      <td>0</td>\n",
       "      <td>0</td>\n",
       "    </tr>\n",
       "    <tr>\n",
       "      <th>3</th>\n",
       "      <td>2021-01-01 02:00:00</td>\n",
       "      <td>2021-01-01 03:00:00</td>\n",
       "      <td>Nederland</td>\n",
       "      <td>WindOffshoreC</td>\n",
       "      <td>Hour</td>\n",
       "      <td>UTC</td>\n",
       "      <td>Providing</td>\n",
       "      <td>Current</td>\n",
       "      <td>322749</td>\n",
       "      <td>322749</td>\n",
       "      <td>0.146911</td>\n",
       "      <td>0</td>\n",
       "      <td>0</td>\n",
       "    </tr>\n",
       "    <tr>\n",
       "      <th>4</th>\n",
       "      <td>2021-01-01 03:00:00</td>\n",
       "      <td>2021-01-01 04:00:00</td>\n",
       "      <td>Nederland</td>\n",
       "      <td>WindOffshoreC</td>\n",
       "      <td>Hour</td>\n",
       "      <td>UTC</td>\n",
       "      <td>Providing</td>\n",
       "      <td>Current</td>\n",
       "      <td>351750</td>\n",
       "      <td>351750</td>\n",
       "      <td>0.160112</td>\n",
       "      <td>0</td>\n",
       "      <td>0</td>\n",
       "    </tr>\n",
       "  </tbody>\n",
       "</table>\n",
       "</div>"
      ],
      "text/plain": [
       "       validfrom (UTC)        validto (UTC)      point           type  \\\n",
       "0  2020-12-31 23:00:00  2021-01-01 00:00:00  Nederland  WindOffshoreC   \n",
       "1  2021-01-01 00:00:00  2021-01-01 01:00:00  Nederland  WindOffshoreC   \n",
       "2  2021-01-01 01:00:00  2021-01-01 02:00:00  Nederland  WindOffshoreC   \n",
       "3  2021-01-01 02:00:00  2021-01-01 03:00:00  Nederland  WindOffshoreC   \n",
       "4  2021-01-01 03:00:00  2021-01-01 04:00:00  Nederland  WindOffshoreC   \n",
       "\n",
       "  granularity timezone   activity classification  capacity (kW)  volume (kWh)  \\\n",
       "0        Hour      UTC  Providing        Current         256749        256749   \n",
       "1        Hour      UTC  Providing        Current         325500        325500   \n",
       "2        Hour      UTC  Providing        Current         332500        332500   \n",
       "3        Hour      UTC  Providing        Current         322749        322749   \n",
       "4        Hour      UTC  Providing        Current         351750        351750   \n",
       "\n",
       "   percentage  emission (kg CO2)  emissionfactor (kg CO2/kWh)  \n",
       "0    0.116869                  0                            0  \n",
       "1    0.148163                  0                            0  \n",
       "2    0.151349                  0                            0  \n",
       "3    0.146911                  0                            0  \n",
       "4    0.160112                  0                            0  "
      ]
     },
     "execution_count": 44,
     "metadata": {},
     "output_type": "execute_result"
    }
   ],
   "source": [
    "seawind.head()"
   ]
  },
  {
   "cell_type": "code",
   "execution_count": 45,
   "id": "8f143351",
   "metadata": {},
   "outputs": [
    {
     "data": {
      "text/html": [
       "<div>\n",
       "<style scoped>\n",
       "    .dataframe tbody tr th:only-of-type {\n",
       "        vertical-align: middle;\n",
       "    }\n",
       "\n",
       "    .dataframe tbody tr th {\n",
       "        vertical-align: top;\n",
       "    }\n",
       "\n",
       "    .dataframe thead th {\n",
       "        text-align: right;\n",
       "    }\n",
       "</style>\n",
       "<table border=\"1\" class=\"dataframe\">\n",
       "  <thead>\n",
       "    <tr style=\"text-align: right;\">\n",
       "      <th></th>\n",
       "      <th>validfrom (UTC)</th>\n",
       "      <th>validto (UTC)</th>\n",
       "      <th>point</th>\n",
       "      <th>type</th>\n",
       "      <th>granularity</th>\n",
       "      <th>timezone</th>\n",
       "      <th>activity</th>\n",
       "      <th>classification</th>\n",
       "      <th>capacity (kW)</th>\n",
       "      <th>volume (kWh)</th>\n",
       "      <th>percentage</th>\n",
       "      <th>emission (kg CO2)</th>\n",
       "      <th>emissionfactor (kg CO2/kWh)</th>\n",
       "    </tr>\n",
       "  </thead>\n",
       "  <tbody>\n",
       "    <tr>\n",
       "      <th>35059</th>\n",
       "      <td>2024-12-31 18:00:00</td>\n",
       "      <td>2024-12-31 19:00:00</td>\n",
       "      <td>Nederland</td>\n",
       "      <td>WindOffshoreC</td>\n",
       "      <td>Hour</td>\n",
       "      <td>UTC</td>\n",
       "      <td>Providing</td>\n",
       "      <td>Current</td>\n",
       "      <td>3711000</td>\n",
       "      <td>3711000</td>\n",
       "      <td>0.892497</td>\n",
       "      <td>0</td>\n",
       "      <td>0</td>\n",
       "    </tr>\n",
       "    <tr>\n",
       "      <th>35060</th>\n",
       "      <td>2024-12-31 19:00:00</td>\n",
       "      <td>2024-12-31 20:00:00</td>\n",
       "      <td>Nederland</td>\n",
       "      <td>WindOffshoreC</td>\n",
       "      <td>Hour</td>\n",
       "      <td>UTC</td>\n",
       "      <td>Providing</td>\n",
       "      <td>Current</td>\n",
       "      <td>3718000</td>\n",
       "      <td>3718000</td>\n",
       "      <td>0.894180</td>\n",
       "      <td>0</td>\n",
       "      <td>0</td>\n",
       "    </tr>\n",
       "    <tr>\n",
       "      <th>35061</th>\n",
       "      <td>2024-12-31 20:00:00</td>\n",
       "      <td>2024-12-31 21:00:00</td>\n",
       "      <td>Nederland</td>\n",
       "      <td>WindOffshoreC</td>\n",
       "      <td>Hour</td>\n",
       "      <td>UTC</td>\n",
       "      <td>Providing</td>\n",
       "      <td>Current</td>\n",
       "      <td>3744500</td>\n",
       "      <td>3744500</td>\n",
       "      <td>0.900553</td>\n",
       "      <td>0</td>\n",
       "      <td>0</td>\n",
       "    </tr>\n",
       "    <tr>\n",
       "      <th>35062</th>\n",
       "      <td>2024-12-31 21:00:00</td>\n",
       "      <td>2024-12-31 22:00:00</td>\n",
       "      <td>Nederland</td>\n",
       "      <td>WindOffshoreC</td>\n",
       "      <td>Hour</td>\n",
       "      <td>UTC</td>\n",
       "      <td>Providing</td>\n",
       "      <td>Current</td>\n",
       "      <td>3686750</td>\n",
       "      <td>3686750</td>\n",
       "      <td>0.886664</td>\n",
       "      <td>0</td>\n",
       "      <td>0</td>\n",
       "    </tr>\n",
       "    <tr>\n",
       "      <th>35063</th>\n",
       "      <td>2024-12-31 22:00:00</td>\n",
       "      <td>2024-12-31 23:00:00</td>\n",
       "      <td>Nederland</td>\n",
       "      <td>WindOffshoreC</td>\n",
       "      <td>Hour</td>\n",
       "      <td>UTC</td>\n",
       "      <td>Providing</td>\n",
       "      <td>Current</td>\n",
       "      <td>3719250</td>\n",
       "      <td>3719250</td>\n",
       "      <td>0.894481</td>\n",
       "      <td>0</td>\n",
       "      <td>0</td>\n",
       "    </tr>\n",
       "  </tbody>\n",
       "</table>\n",
       "</div>"
      ],
      "text/plain": [
       "           validfrom (UTC)        validto (UTC)      point           type  \\\n",
       "35059  2024-12-31 18:00:00  2024-12-31 19:00:00  Nederland  WindOffshoreC   \n",
       "35060  2024-12-31 19:00:00  2024-12-31 20:00:00  Nederland  WindOffshoreC   \n",
       "35061  2024-12-31 20:00:00  2024-12-31 21:00:00  Nederland  WindOffshoreC   \n",
       "35062  2024-12-31 21:00:00  2024-12-31 22:00:00  Nederland  WindOffshoreC   \n",
       "35063  2024-12-31 22:00:00  2024-12-31 23:00:00  Nederland  WindOffshoreC   \n",
       "\n",
       "      granularity timezone   activity classification  capacity (kW)  \\\n",
       "35059        Hour      UTC  Providing        Current        3711000   \n",
       "35060        Hour      UTC  Providing        Current        3718000   \n",
       "35061        Hour      UTC  Providing        Current        3744500   \n",
       "35062        Hour      UTC  Providing        Current        3686750   \n",
       "35063        Hour      UTC  Providing        Current        3719250   \n",
       "\n",
       "       volume (kWh)  percentage  emission (kg CO2)  \\\n",
       "35059       3711000    0.892497                  0   \n",
       "35060       3718000    0.894180                  0   \n",
       "35061       3744500    0.900553                  0   \n",
       "35062       3686750    0.886664                  0   \n",
       "35063       3719250    0.894481                  0   \n",
       "\n",
       "       emissionfactor (kg CO2/kWh)  \n",
       "35059                            0  \n",
       "35060                            0  \n",
       "35061                            0  \n",
       "35062                            0  \n",
       "35063                            0  "
      ]
     },
     "execution_count": 45,
     "metadata": {},
     "output_type": "execute_result"
    }
   ],
   "source": [
    "seawind.tail()"
   ]
  },
  {
   "cell_type": "code",
   "execution_count": 46,
   "id": "ab1ea122",
   "metadata": {},
   "outputs": [
    {
     "name": "stdout",
     "output_type": "stream",
     "text": [
      "validfrom (UTC)                35064\n",
      "validto (UTC)                  35064\n",
      "point                              1\n",
      "type                               1\n",
      "granularity                        1\n",
      "timezone                           1\n",
      "activity                           1\n",
      "classification                     1\n",
      "capacity (kW)                  19861\n",
      "volume (kWh)                   19861\n",
      "percentage                     30932\n",
      "emission (kg CO2)                  1\n",
      "emissionfactor (kg CO2/kWh)        1\n",
      "dtype: int64\n"
     ]
    }
   ],
   "source": [
    "print(seawind.nunique())  # Check for unique values in each column\n",
    "\n"
   ]
  },
  {
   "cell_type": "code",
   "execution_count": 47,
   "id": "fc47356d",
   "metadata": {},
   "outputs": [],
   "source": [
    "# Clean the CO2 factor dataset\n",
    "seawind = seawind.drop(columns={'validto (UTC)',\n",
    "                                               'point', \n",
    "                                               'type', \n",
    "                                               'granularity', \n",
    "                                               'timezone', \n",
    "                                               'activity', \n",
    "                                               'classification', \n",
    "                                               'capacity (kW)', \n",
    "                                               'emissionfactor (kg CO2/kWh)', \n",
    "                                               'percentage', \n",
    "                                               'emission (kg CO2)'}\n",
    "                                               )"
   ]
  },
  {
   "cell_type": "code",
   "execution_count": 48,
   "id": "f2711c8e",
   "metadata": {},
   "outputs": [],
   "source": [
    "# Rename columns for clarity\n",
    "seawind = seawind.rename(columns={\n",
    "    'validfrom (UTC)': 'starting_time',\n",
    "    'volume (kWh)': 'seawind'}\n",
    ")"
   ]
  },
  {
   "cell_type": "code",
   "execution_count": 49,
   "id": "d00b070a",
   "metadata": {},
   "outputs": [
    {
     "data": {
      "text/plain": [
       "np.int64(0)"
      ]
     },
     "execution_count": 49,
     "metadata": {},
     "output_type": "execute_result"
    }
   ],
   "source": [
    "seawind.duplicated().sum()  # Check for duplicates in the dataset"
   ]
  },
  {
   "cell_type": "code",
   "execution_count": 50,
   "id": "c666a291",
   "metadata": {},
   "outputs": [
    {
     "data": {
      "text/plain": [
       "starting_time    0\n",
       "seawind          0\n",
       "dtype: int64"
      ]
     },
     "execution_count": 50,
     "metadata": {},
     "output_type": "execute_result"
    }
   ],
   "source": [
    "seawind.isna().sum()  # Check for missing values in the dataset"
   ]
  },
  {
   "cell_type": "code",
   "execution_count": 51,
   "id": "538318ca",
   "metadata": {},
   "outputs": [
    {
     "data": {
      "text/html": [
       "<div>\n",
       "<style scoped>\n",
       "    .dataframe tbody tr th:only-of-type {\n",
       "        vertical-align: middle;\n",
       "    }\n",
       "\n",
       "    .dataframe tbody tr th {\n",
       "        vertical-align: top;\n",
       "    }\n",
       "\n",
       "    .dataframe thead th {\n",
       "        text-align: right;\n",
       "    }\n",
       "</style>\n",
       "<table border=\"1\" class=\"dataframe\">\n",
       "  <thead>\n",
       "    <tr style=\"text-align: right;\">\n",
       "      <th></th>\n",
       "      <th>starting_time</th>\n",
       "      <th>seawind</th>\n",
       "    </tr>\n",
       "  </thead>\n",
       "  <tbody>\n",
       "    <tr>\n",
       "      <th>0</th>\n",
       "      <td>2020-12-31 23:00:00</td>\n",
       "      <td>256749</td>\n",
       "    </tr>\n",
       "    <tr>\n",
       "      <th>1</th>\n",
       "      <td>2021-01-01 00:00:00</td>\n",
       "      <td>325500</td>\n",
       "    </tr>\n",
       "    <tr>\n",
       "      <th>2</th>\n",
       "      <td>2021-01-01 01:00:00</td>\n",
       "      <td>332500</td>\n",
       "    </tr>\n",
       "    <tr>\n",
       "      <th>3</th>\n",
       "      <td>2021-01-01 02:00:00</td>\n",
       "      <td>322749</td>\n",
       "    </tr>\n",
       "    <tr>\n",
       "      <th>4</th>\n",
       "      <td>2021-01-01 03:00:00</td>\n",
       "      <td>351750</td>\n",
       "    </tr>\n",
       "  </tbody>\n",
       "</table>\n",
       "</div>"
      ],
      "text/plain": [
       "         starting_time  seawind\n",
       "0  2020-12-31 23:00:00   256749\n",
       "1  2021-01-01 00:00:00   325500\n",
       "2  2021-01-01 01:00:00   332500\n",
       "3  2021-01-01 02:00:00   322749\n",
       "4  2021-01-01 03:00:00   351750"
      ]
     },
     "execution_count": 51,
     "metadata": {},
     "output_type": "execute_result"
    }
   ],
   "source": [
    "seawind.head()"
   ]
  },
  {
   "cell_type": "code",
   "execution_count": 52,
   "id": "be3f0eaa",
   "metadata": {},
   "outputs": [],
   "source": [
    "# biomass energy (X_4)\n",
    "biomass_2021 = pd.read_csv(\"biomassa-2021-uur-data.csv\") \n",
    "biomass_2022 = pd.read_csv(\"biomassa-2022-uur-data.csv\")\n",
    "biomass_2023 = pd.read_csv(\"biomassa-2023-uur-data.csv\")\n",
    "biomass_2024 = pd.read_csv(\"biomassa-2024-uur-data.csv\")   "
   ]
  },
  {
   "cell_type": "code",
   "execution_count": 53,
   "id": "cd6aeb1e",
   "metadata": {},
   "outputs": [
    {
     "name": "stdout",
     "output_type": "stream",
     "text": [
      "(8760, 13) (8760, 13) (8760, 13) (8784, 13)\n"
     ]
    }
   ],
   "source": [
    "print(biomass_2021.shape, biomass_2022.shape, biomass_2023.shape, biomass_2024.shape)  # Check the shapes of the datasets"
   ]
  },
  {
   "cell_type": "code",
   "execution_count": 54,
   "id": "268cc224",
   "metadata": {},
   "outputs": [],
   "source": [
    "biomass = pd.concat([biomass_2021, biomass_2022, biomass_2023, biomass_2024], ignore_index=True)  # merge the datasets  "
   ]
  },
  {
   "cell_type": "code",
   "execution_count": 55,
   "id": "c479cbd1",
   "metadata": {},
   "outputs": [
    {
     "data": {
      "text/plain": [
       "(35064, 13)"
      ]
     },
     "execution_count": 55,
     "metadata": {},
     "output_type": "execute_result"
    }
   ],
   "source": [
    "biomass.shape"
   ]
  },
  {
   "cell_type": "code",
   "execution_count": 56,
   "id": "24769e82",
   "metadata": {},
   "outputs": [
    {
     "data": {
      "text/html": [
       "<div>\n",
       "<style scoped>\n",
       "    .dataframe tbody tr th:only-of-type {\n",
       "        vertical-align: middle;\n",
       "    }\n",
       "\n",
       "    .dataframe tbody tr th {\n",
       "        vertical-align: top;\n",
       "    }\n",
       "\n",
       "    .dataframe thead th {\n",
       "        text-align: right;\n",
       "    }\n",
       "</style>\n",
       "<table border=\"1\" class=\"dataframe\">\n",
       "  <thead>\n",
       "    <tr style=\"text-align: right;\">\n",
       "      <th></th>\n",
       "      <th>validfrom (UTC)</th>\n",
       "      <th>validto (UTC)</th>\n",
       "      <th>point</th>\n",
       "      <th>type</th>\n",
       "      <th>granularity</th>\n",
       "      <th>timezone</th>\n",
       "      <th>activity</th>\n",
       "      <th>classification</th>\n",
       "      <th>capacity (kW)</th>\n",
       "      <th>volume (kWh)</th>\n",
       "      <th>percentage</th>\n",
       "      <th>emission (kg CO2)</th>\n",
       "      <th>emissionfactor (kg CO2/kWh)</th>\n",
       "    </tr>\n",
       "  </thead>\n",
       "  <tbody>\n",
       "    <tr>\n",
       "      <th>0</th>\n",
       "      <td>2020-12-31 23:00:00</td>\n",
       "      <td>2021-01-01 00:00:00</td>\n",
       "      <td>Nederland</td>\n",
       "      <td>BiomassPower</td>\n",
       "      <td>Hour</td>\n",
       "      <td>UTC</td>\n",
       "      <td>Providing</td>\n",
       "      <td>Current</td>\n",
       "      <td>662593</td>\n",
       "      <td>662593</td>\n",
       "      <td>0.662594</td>\n",
       "      <td>0</td>\n",
       "      <td>0</td>\n",
       "    </tr>\n",
       "    <tr>\n",
       "      <th>1</th>\n",
       "      <td>2021-01-01 00:00:00</td>\n",
       "      <td>2021-01-01 01:00:00</td>\n",
       "      <td>Nederland</td>\n",
       "      <td>BiomassPower</td>\n",
       "      <td>Hour</td>\n",
       "      <td>UTC</td>\n",
       "      <td>Providing</td>\n",
       "      <td>Current</td>\n",
       "      <td>675321</td>\n",
       "      <td>675321</td>\n",
       "      <td>0.675321</td>\n",
       "      <td>0</td>\n",
       "      <td>0</td>\n",
       "    </tr>\n",
       "    <tr>\n",
       "      <th>2</th>\n",
       "      <td>2021-01-01 01:00:00</td>\n",
       "      <td>2021-01-01 02:00:00</td>\n",
       "      <td>Nederland</td>\n",
       "      <td>BiomassPower</td>\n",
       "      <td>Hour</td>\n",
       "      <td>UTC</td>\n",
       "      <td>Providing</td>\n",
       "      <td>Current</td>\n",
       "      <td>588699</td>\n",
       "      <td>588699</td>\n",
       "      <td>0.588699</td>\n",
       "      <td>0</td>\n",
       "      <td>0</td>\n",
       "    </tr>\n",
       "    <tr>\n",
       "      <th>3</th>\n",
       "      <td>2021-01-01 02:00:00</td>\n",
       "      <td>2021-01-01 03:00:00</td>\n",
       "      <td>Nederland</td>\n",
       "      <td>BiomassPower</td>\n",
       "      <td>Hour</td>\n",
       "      <td>UTC</td>\n",
       "      <td>Providing</td>\n",
       "      <td>Current</td>\n",
       "      <td>487599</td>\n",
       "      <td>487599</td>\n",
       "      <td>0.487599</td>\n",
       "      <td>0</td>\n",
       "      <td>0</td>\n",
       "    </tr>\n",
       "    <tr>\n",
       "      <th>4</th>\n",
       "      <td>2021-01-01 03:00:00</td>\n",
       "      <td>2021-01-01 04:00:00</td>\n",
       "      <td>Nederland</td>\n",
       "      <td>BiomassPower</td>\n",
       "      <td>Hour</td>\n",
       "      <td>UTC</td>\n",
       "      <td>Providing</td>\n",
       "      <td>Current</td>\n",
       "      <td>392943</td>\n",
       "      <td>392943</td>\n",
       "      <td>0.392943</td>\n",
       "      <td>0</td>\n",
       "      <td>0</td>\n",
       "    </tr>\n",
       "  </tbody>\n",
       "</table>\n",
       "</div>"
      ],
      "text/plain": [
       "       validfrom (UTC)        validto (UTC)      point          type  \\\n",
       "0  2020-12-31 23:00:00  2021-01-01 00:00:00  Nederland  BiomassPower   \n",
       "1  2021-01-01 00:00:00  2021-01-01 01:00:00  Nederland  BiomassPower   \n",
       "2  2021-01-01 01:00:00  2021-01-01 02:00:00  Nederland  BiomassPower   \n",
       "3  2021-01-01 02:00:00  2021-01-01 03:00:00  Nederland  BiomassPower   \n",
       "4  2021-01-01 03:00:00  2021-01-01 04:00:00  Nederland  BiomassPower   \n",
       "\n",
       "  granularity timezone   activity classification  capacity (kW)  volume (kWh)  \\\n",
       "0        Hour      UTC  Providing        Current         662593        662593   \n",
       "1        Hour      UTC  Providing        Current         675321        675321   \n",
       "2        Hour      UTC  Providing        Current         588699        588699   \n",
       "3        Hour      UTC  Providing        Current         487599        487599   \n",
       "4        Hour      UTC  Providing        Current         392943        392943   \n",
       "\n",
       "   percentage  emission (kg CO2)  emissionfactor (kg CO2/kWh)  \n",
       "0    0.662594                  0                            0  \n",
       "1    0.675321                  0                            0  \n",
       "2    0.588699                  0                            0  \n",
       "3    0.487599                  0                            0  \n",
       "4    0.392943                  0                            0  "
      ]
     },
     "execution_count": 56,
     "metadata": {},
     "output_type": "execute_result"
    }
   ],
   "source": [
    "biomass.head()"
   ]
  },
  {
   "cell_type": "code",
   "execution_count": 57,
   "id": "77e7d6bc",
   "metadata": {},
   "outputs": [
    {
     "data": {
      "text/html": [
       "<div>\n",
       "<style scoped>\n",
       "    .dataframe tbody tr th:only-of-type {\n",
       "        vertical-align: middle;\n",
       "    }\n",
       "\n",
       "    .dataframe tbody tr th {\n",
       "        vertical-align: top;\n",
       "    }\n",
       "\n",
       "    .dataframe thead th {\n",
       "        text-align: right;\n",
       "    }\n",
       "</style>\n",
       "<table border=\"1\" class=\"dataframe\">\n",
       "  <thead>\n",
       "    <tr style=\"text-align: right;\">\n",
       "      <th></th>\n",
       "      <th>validfrom (UTC)</th>\n",
       "      <th>validto (UTC)</th>\n",
       "      <th>point</th>\n",
       "      <th>type</th>\n",
       "      <th>granularity</th>\n",
       "      <th>timezone</th>\n",
       "      <th>activity</th>\n",
       "      <th>classification</th>\n",
       "      <th>capacity (kW)</th>\n",
       "      <th>volume (kWh)</th>\n",
       "      <th>percentage</th>\n",
       "      <th>emission (kg CO2)</th>\n",
       "      <th>emissionfactor (kg CO2/kWh)</th>\n",
       "    </tr>\n",
       "  </thead>\n",
       "  <tbody>\n",
       "    <tr>\n",
       "      <th>35059</th>\n",
       "      <td>2024-12-31 18:00:00</td>\n",
       "      <td>2024-12-31 19:00:00</td>\n",
       "      <td>Nederland</td>\n",
       "      <td>BiomassPower</td>\n",
       "      <td>Hour</td>\n",
       "      <td>UTC</td>\n",
       "      <td>Providing</td>\n",
       "      <td>Current</td>\n",
       "      <td>70087</td>\n",
       "      <td>70087</td>\n",
       "      <td>0.070088</td>\n",
       "      <td>0</td>\n",
       "      <td>0</td>\n",
       "    </tr>\n",
       "    <tr>\n",
       "      <th>35060</th>\n",
       "      <td>2024-12-31 19:00:00</td>\n",
       "      <td>2024-12-31 20:00:00</td>\n",
       "      <td>Nederland</td>\n",
       "      <td>BiomassPower</td>\n",
       "      <td>Hour</td>\n",
       "      <td>UTC</td>\n",
       "      <td>Providing</td>\n",
       "      <td>Current</td>\n",
       "      <td>70205</td>\n",
       "      <td>70205</td>\n",
       "      <td>0.070205</td>\n",
       "      <td>0</td>\n",
       "      <td>0</td>\n",
       "    </tr>\n",
       "    <tr>\n",
       "      <th>35061</th>\n",
       "      <td>2024-12-31 20:00:00</td>\n",
       "      <td>2024-12-31 21:00:00</td>\n",
       "      <td>Nederland</td>\n",
       "      <td>BiomassPower</td>\n",
       "      <td>Hour</td>\n",
       "      <td>UTC</td>\n",
       "      <td>Providing</td>\n",
       "      <td>Current</td>\n",
       "      <td>70264</td>\n",
       "      <td>70264</td>\n",
       "      <td>0.070264</td>\n",
       "      <td>0</td>\n",
       "      <td>0</td>\n",
       "    </tr>\n",
       "    <tr>\n",
       "      <th>35062</th>\n",
       "      <td>2024-12-31 21:00:00</td>\n",
       "      <td>2024-12-31 22:00:00</td>\n",
       "      <td>Nederland</td>\n",
       "      <td>BiomassPower</td>\n",
       "      <td>Hour</td>\n",
       "      <td>UTC</td>\n",
       "      <td>Providing</td>\n",
       "      <td>Current</td>\n",
       "      <td>70263</td>\n",
       "      <td>70263</td>\n",
       "      <td>0.070264</td>\n",
       "      <td>0</td>\n",
       "      <td>0</td>\n",
       "    </tr>\n",
       "    <tr>\n",
       "      <th>35063</th>\n",
       "      <td>2024-12-31 22:00:00</td>\n",
       "      <td>2024-12-31 23:00:00</td>\n",
       "      <td>Nederland</td>\n",
       "      <td>BiomassPower</td>\n",
       "      <td>Hour</td>\n",
       "      <td>UTC</td>\n",
       "      <td>Providing</td>\n",
       "      <td>Current</td>\n",
       "      <td>70146</td>\n",
       "      <td>70146</td>\n",
       "      <td>0.070147</td>\n",
       "      <td>0</td>\n",
       "      <td>0</td>\n",
       "    </tr>\n",
       "  </tbody>\n",
       "</table>\n",
       "</div>"
      ],
      "text/plain": [
       "           validfrom (UTC)        validto (UTC)      point          type  \\\n",
       "35059  2024-12-31 18:00:00  2024-12-31 19:00:00  Nederland  BiomassPower   \n",
       "35060  2024-12-31 19:00:00  2024-12-31 20:00:00  Nederland  BiomassPower   \n",
       "35061  2024-12-31 20:00:00  2024-12-31 21:00:00  Nederland  BiomassPower   \n",
       "35062  2024-12-31 21:00:00  2024-12-31 22:00:00  Nederland  BiomassPower   \n",
       "35063  2024-12-31 22:00:00  2024-12-31 23:00:00  Nederland  BiomassPower   \n",
       "\n",
       "      granularity timezone   activity classification  capacity (kW)  \\\n",
       "35059        Hour      UTC  Providing        Current          70087   \n",
       "35060        Hour      UTC  Providing        Current          70205   \n",
       "35061        Hour      UTC  Providing        Current          70264   \n",
       "35062        Hour      UTC  Providing        Current          70263   \n",
       "35063        Hour      UTC  Providing        Current          70146   \n",
       "\n",
       "       volume (kWh)  percentage  emission (kg CO2)  \\\n",
       "35059         70087    0.070088                  0   \n",
       "35060         70205    0.070205                  0   \n",
       "35061         70264    0.070264                  0   \n",
       "35062         70263    0.070264                  0   \n",
       "35063         70146    0.070147                  0   \n",
       "\n",
       "       emissionfactor (kg CO2/kWh)  \n",
       "35059                            0  \n",
       "35060                            0  \n",
       "35061                            0  \n",
       "35062                            0  \n",
       "35063                            0  "
      ]
     },
     "execution_count": 57,
     "metadata": {},
     "output_type": "execute_result"
    }
   ],
   "source": [
    "biomass.tail()"
   ]
  },
  {
   "cell_type": "code",
   "execution_count": 58,
   "id": "a94e6759",
   "metadata": {},
   "outputs": [
    {
     "name": "stdout",
     "output_type": "stream",
     "text": [
      "validfrom (UTC)                35064\n",
      "validto (UTC)                  35064\n",
      "point                              1\n",
      "type                               1\n",
      "granularity                        1\n",
      "timezone                           1\n",
      "activity                           1\n",
      "classification                     1\n",
      "capacity (kW)                  29626\n",
      "volume (kWh)                   29626\n",
      "percentage                     30076\n",
      "emission (kg CO2)                  1\n",
      "emissionfactor (kg CO2/kWh)        1\n",
      "dtype: int64\n"
     ]
    }
   ],
   "source": [
    "print(biomass.nunique())  # Check for unique values in each column\n",
    "\n"
   ]
  },
  {
   "cell_type": "code",
   "execution_count": 59,
   "id": "45732f93",
   "metadata": {},
   "outputs": [],
   "source": [
    "# Clean the CO2 factor dataset\n",
    "biomass = biomass.drop(columns={'validto (UTC)',\n",
    "                                               'point', \n",
    "                                               'type', \n",
    "                                               'granularity', \n",
    "                                               'timezone', \n",
    "                                               'activity', \n",
    "                                               'classification', \n",
    "                                               'capacity (kW)', \n",
    "                                               'emissionfactor (kg CO2/kWh)', \n",
    "                                               'percentage', \n",
    "                                               'emission (kg CO2)'}\n",
    "                                               )"
   ]
  },
  {
   "cell_type": "code",
   "execution_count": 60,
   "id": "de65f80f",
   "metadata": {},
   "outputs": [],
   "source": [
    "# Rename columns for clarity\n",
    "biomass = biomass.rename(columns={\n",
    "    'validfrom (UTC)': 'starting_time',\n",
    "    'volume (kWh)': 'biomass'}\n",
    ")"
   ]
  },
  {
   "cell_type": "code",
   "execution_count": 61,
   "id": "c28e230d",
   "metadata": {},
   "outputs": [
    {
     "data": {
      "text/plain": [
       "np.int64(0)"
      ]
     },
     "execution_count": 61,
     "metadata": {},
     "output_type": "execute_result"
    }
   ],
   "source": [
    "biomass.duplicated().sum()  # Check for duplicates in the dataset"
   ]
  },
  {
   "cell_type": "code",
   "execution_count": 62,
   "id": "1e47af18",
   "metadata": {},
   "outputs": [
    {
     "data": {
      "text/plain": [
       "starting_time    0\n",
       "biomass          0\n",
       "dtype: int64"
      ]
     },
     "execution_count": 62,
     "metadata": {},
     "output_type": "execute_result"
    }
   ],
   "source": [
    "biomass.isna().sum()  # Check for missing values in the dataset"
   ]
  },
  {
   "cell_type": "code",
   "execution_count": 63,
   "id": "8cf6c10c",
   "metadata": {},
   "outputs": [
    {
     "data": {
      "text/html": [
       "<div>\n",
       "<style scoped>\n",
       "    .dataframe tbody tr th:only-of-type {\n",
       "        vertical-align: middle;\n",
       "    }\n",
       "\n",
       "    .dataframe tbody tr th {\n",
       "        vertical-align: top;\n",
       "    }\n",
       "\n",
       "    .dataframe thead th {\n",
       "        text-align: right;\n",
       "    }\n",
       "</style>\n",
       "<table border=\"1\" class=\"dataframe\">\n",
       "  <thead>\n",
       "    <tr style=\"text-align: right;\">\n",
       "      <th></th>\n",
       "      <th>starting_time</th>\n",
       "      <th>biomass</th>\n",
       "    </tr>\n",
       "  </thead>\n",
       "  <tbody>\n",
       "    <tr>\n",
       "      <th>0</th>\n",
       "      <td>2020-12-31 23:00:00</td>\n",
       "      <td>662593</td>\n",
       "    </tr>\n",
       "    <tr>\n",
       "      <th>1</th>\n",
       "      <td>2021-01-01 00:00:00</td>\n",
       "      <td>675321</td>\n",
       "    </tr>\n",
       "    <tr>\n",
       "      <th>2</th>\n",
       "      <td>2021-01-01 01:00:00</td>\n",
       "      <td>588699</td>\n",
       "    </tr>\n",
       "    <tr>\n",
       "      <th>3</th>\n",
       "      <td>2021-01-01 02:00:00</td>\n",
       "      <td>487599</td>\n",
       "    </tr>\n",
       "    <tr>\n",
       "      <th>4</th>\n",
       "      <td>2021-01-01 03:00:00</td>\n",
       "      <td>392943</td>\n",
       "    </tr>\n",
       "  </tbody>\n",
       "</table>\n",
       "</div>"
      ],
      "text/plain": [
       "         starting_time  biomass\n",
       "0  2020-12-31 23:00:00   662593\n",
       "1  2021-01-01 00:00:00   675321\n",
       "2  2021-01-01 01:00:00   588699\n",
       "3  2021-01-01 02:00:00   487599\n",
       "4  2021-01-01 03:00:00   392943"
      ]
     },
     "execution_count": 63,
     "metadata": {},
     "output_type": "execute_result"
    }
   ],
   "source": [
    "biomass.head()"
   ]
  },
  {
   "cell_type": "code",
   "execution_count": 64,
   "id": "94ce96f1",
   "metadata": {},
   "outputs": [],
   "source": [
    "energy = pd.merge(CO2factor, solar, on='starting_time', how='outer')  # Merge CO2 factor and solar datasets\n",
    "energy = pd.merge(energy, landwind, on='starting_time', how='outer')    # Merge with land wind dataset\n",
    "energy = pd.merge(energy, seawind, on='starting_time', how='outer')    # Merge with sea wind dataset\n",
    "energy = pd.merge(energy, biomass, on='starting_time', how='outer')  # Merge with biomass dataset"
   ]
  },
  {
   "cell_type": "code",
   "execution_count": 65,
   "id": "f7220fff",
   "metadata": {},
   "outputs": [
    {
     "data": {
      "text/plain": [
       "(35064, 6)"
      ]
     },
     "execution_count": 65,
     "metadata": {},
     "output_type": "execute_result"
    }
   ],
   "source": [
    "energy.shape  # Check the shape of the final dataset"
   ]
  },
  {
   "cell_type": "code",
   "execution_count": 66,
   "id": "c99730f9",
   "metadata": {},
   "outputs": [
    {
     "data": {
      "text/html": [
       "<div>\n",
       "<style scoped>\n",
       "    .dataframe tbody tr th:only-of-type {\n",
       "        vertical-align: middle;\n",
       "    }\n",
       "\n",
       "    .dataframe tbody tr th {\n",
       "        vertical-align: top;\n",
       "    }\n",
       "\n",
       "    .dataframe thead th {\n",
       "        text-align: right;\n",
       "    }\n",
       "</style>\n",
       "<table border=\"1\" class=\"dataframe\">\n",
       "  <thead>\n",
       "    <tr style=\"text-align: right;\">\n",
       "      <th></th>\n",
       "      <th>starting_time</th>\n",
       "      <th>CO2factor</th>\n",
       "      <th>solar</th>\n",
       "      <th>landwind</th>\n",
       "      <th>seawind</th>\n",
       "      <th>biomass</th>\n",
       "    </tr>\n",
       "  </thead>\n",
       "  <tbody>\n",
       "    <tr>\n",
       "      <th>0</th>\n",
       "      <td>2020-12-31 23:00:00</td>\n",
       "      <td>0.361425</td>\n",
       "      <td>0</td>\n",
       "      <td>82894</td>\n",
       "      <td>256749</td>\n",
       "      <td>662593</td>\n",
       "    </tr>\n",
       "    <tr>\n",
       "      <th>1</th>\n",
       "      <td>2021-01-01 00:00:00</td>\n",
       "      <td>0.358140</td>\n",
       "      <td>0</td>\n",
       "      <td>95906</td>\n",
       "      <td>325500</td>\n",
       "      <td>675321</td>\n",
       "    </tr>\n",
       "    <tr>\n",
       "      <th>2</th>\n",
       "      <td>2021-01-01 01:00:00</td>\n",
       "      <td>0.349210</td>\n",
       "      <td>0</td>\n",
       "      <td>122117</td>\n",
       "      <td>332500</td>\n",
       "      <td>588699</td>\n",
       "    </tr>\n",
       "    <tr>\n",
       "      <th>3</th>\n",
       "      <td>2021-01-01 02:00:00</td>\n",
       "      <td>0.339635</td>\n",
       "      <td>0</td>\n",
       "      <td>87353</td>\n",
       "      <td>322749</td>\n",
       "      <td>487599</td>\n",
       "    </tr>\n",
       "    <tr>\n",
       "      <th>4</th>\n",
       "      <td>2021-01-01 03:00:00</td>\n",
       "      <td>0.330915</td>\n",
       "      <td>0</td>\n",
       "      <td>59687</td>\n",
       "      <td>351750</td>\n",
       "      <td>392943</td>\n",
       "    </tr>\n",
       "  </tbody>\n",
       "</table>\n",
       "</div>"
      ],
      "text/plain": [
       "         starting_time  CO2factor  solar  landwind  seawind  biomass\n",
       "0  2020-12-31 23:00:00   0.361425      0     82894   256749   662593\n",
       "1  2021-01-01 00:00:00   0.358140      0     95906   325500   675321\n",
       "2  2021-01-01 01:00:00   0.349210      0    122117   332500   588699\n",
       "3  2021-01-01 02:00:00   0.339635      0     87353   322749   487599\n",
       "4  2021-01-01 03:00:00   0.330915      0     59687   351750   392943"
      ]
     },
     "execution_count": 66,
     "metadata": {},
     "output_type": "execute_result"
    }
   ],
   "source": [
    "energy.head(5)"
   ]
  },
  {
   "cell_type": "code",
   "execution_count": 67,
   "id": "84eac167",
   "metadata": {},
   "outputs": [
    {
     "data": {
      "text/html": [
       "<div>\n",
       "<style scoped>\n",
       "    .dataframe tbody tr th:only-of-type {\n",
       "        vertical-align: middle;\n",
       "    }\n",
       "\n",
       "    .dataframe tbody tr th {\n",
       "        vertical-align: top;\n",
       "    }\n",
       "\n",
       "    .dataframe thead th {\n",
       "        text-align: right;\n",
       "    }\n",
       "</style>\n",
       "<table border=\"1\" class=\"dataframe\">\n",
       "  <thead>\n",
       "    <tr style=\"text-align: right;\">\n",
       "      <th></th>\n",
       "      <th>starting_time</th>\n",
       "      <th>CO2factor</th>\n",
       "      <th>solar</th>\n",
       "      <th>landwind</th>\n",
       "      <th>seawind</th>\n",
       "      <th>biomass</th>\n",
       "    </tr>\n",
       "  </thead>\n",
       "  <tbody>\n",
       "    <tr>\n",
       "      <th>35059</th>\n",
       "      <td>2024-12-31 18:00:00</td>\n",
       "      <td>0.094857</td>\n",
       "      <td>0</td>\n",
       "      <td>6375458</td>\n",
       "      <td>3711000</td>\n",
       "      <td>70087</td>\n",
       "    </tr>\n",
       "    <tr>\n",
       "      <th>35060</th>\n",
       "      <td>2024-12-31 19:00:00</td>\n",
       "      <td>0.086264</td>\n",
       "      <td>0</td>\n",
       "      <td>6448966</td>\n",
       "      <td>3718000</td>\n",
       "      <td>70205</td>\n",
       "    </tr>\n",
       "    <tr>\n",
       "      <th>35061</th>\n",
       "      <td>2024-12-31 20:00:00</td>\n",
       "      <td>0.083229</td>\n",
       "      <td>0</td>\n",
       "      <td>6472458</td>\n",
       "      <td>3744500</td>\n",
       "      <td>70264</td>\n",
       "    </tr>\n",
       "    <tr>\n",
       "      <th>35062</th>\n",
       "      <td>2024-12-31 21:00:00</td>\n",
       "      <td>0.081749</td>\n",
       "      <td>0</td>\n",
       "      <td>6486790</td>\n",
       "      <td>3686750</td>\n",
       "      <td>70263</td>\n",
       "    </tr>\n",
       "    <tr>\n",
       "      <th>35063</th>\n",
       "      <td>2024-12-31 22:00:00</td>\n",
       "      <td>0.077602</td>\n",
       "      <td>0</td>\n",
       "      <td>6499171</td>\n",
       "      <td>3719250</td>\n",
       "      <td>70146</td>\n",
       "    </tr>\n",
       "  </tbody>\n",
       "</table>\n",
       "</div>"
      ],
      "text/plain": [
       "             starting_time  CO2factor  solar  landwind  seawind  biomass\n",
       "35059  2024-12-31 18:00:00   0.094857      0   6375458  3711000    70087\n",
       "35060  2024-12-31 19:00:00   0.086264      0   6448966  3718000    70205\n",
       "35061  2024-12-31 20:00:00   0.083229      0   6472458  3744500    70264\n",
       "35062  2024-12-31 21:00:00   0.081749      0   6486790  3686750    70263\n",
       "35063  2024-12-31 22:00:00   0.077602      0   6499171  3719250    70146"
      ]
     },
     "execution_count": 67,
     "metadata": {},
     "output_type": "execute_result"
    }
   ],
   "source": [
    "energy.tail()"
   ]
  },
  {
   "cell_type": "code",
   "execution_count": 68,
   "id": "8e3c0fe6",
   "metadata": {},
   "outputs": [
    {
     "data": {
      "text/plain": [
       "starting_time    35064\n",
       "CO2factor        34683\n",
       "solar            19123\n",
       "landwind         34056\n",
       "seawind          19861\n",
       "biomass          29626\n",
       "dtype: int64"
      ]
     },
     "execution_count": 68,
     "metadata": {},
     "output_type": "execute_result"
    }
   ],
   "source": [
    "energy.nunique()  # Check for unique values in each column  "
   ]
  },
  {
   "cell_type": "code",
   "execution_count": 69,
   "id": "d2884cc9",
   "metadata": {},
   "outputs": [
    {
     "data": {
      "text/plain": [
       "starting_time     object\n",
       "CO2factor        float64\n",
       "solar              int64\n",
       "landwind           int64\n",
       "seawind            int64\n",
       "biomass            int64\n",
       "dtype: object"
      ]
     },
     "execution_count": 69,
     "metadata": {},
     "output_type": "execute_result"
    }
   ],
   "source": [
    "energy.dtypes # Check the data types of each column"
   ]
  },
  {
   "cell_type": "code",
   "execution_count": 70,
   "id": "52729756",
   "metadata": {},
   "outputs": [
    {
     "data": {
      "text/plain": [
       "starting_time    0\n",
       "CO2factor        0\n",
       "solar            0\n",
       "landwind         0\n",
       "seawind          0\n",
       "biomass          0\n",
       "dtype: int64"
      ]
     },
     "execution_count": 70,
     "metadata": {},
     "output_type": "execute_result"
    }
   ],
   "source": [
    "energy.isna().sum()  # Check for missing values in the dataset"
   ]
  },
  {
   "cell_type": "code",
   "execution_count": 71,
   "id": "279277ba",
   "metadata": {},
   "outputs": [],
   "source": [
    "energy['starting_time'] = pd.to_datetime(energy['starting_time']) # set 'starting_time' as datetime type"
   ]
  },
  {
   "cell_type": "markdown",
   "id": "71b6cc8a",
   "metadata": {},
   "source": [
    "### Save the cleaned dataset"
   ]
  },
  {
   "cell_type": "code",
   "execution_count": null,
   "id": "d98b4da5",
   "metadata": {},
   "outputs": [],
   "source": [
    "energy.to_excel(\"energy_data.xlsx\", index=False) \n"
   ]
  }
 ],
 "metadata": {
  "kernelspec": {
   "display_name": ".venv",
   "language": "python",
   "name": "python3"
  },
  "language_info": {
   "codemirror_mode": {
    "name": "ipython",
    "version": 3
   },
   "file_extension": ".py",
   "mimetype": "text/x-python",
   "name": "python",
   "nbconvert_exporter": "python",
   "pygments_lexer": "ipython3",
   "version": "3.10.11"
  }
 },
 "nbformat": 4,
 "nbformat_minor": 5
}
